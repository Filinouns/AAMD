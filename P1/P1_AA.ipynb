{
 "cells": [
  {
   "cell_type": "markdown",
   "metadata": {},
   "source": [
    "# Practica 1\n",
    "## Regresión Lineal\n",
    "\n",
    "### Regresion lineal con 1 variable\n",
    "\n",
    "En esta primera parte de la practica aplicaremos el metodo de regresion lineal sobre los datos de un fichero para calcular, a traves del metodo del gradiente, la recta que mas se asemeja a los datos de entrenamiento."
   ]
  },
  {
   "cell_type": "markdown",
   "metadata": {},
   "source": [
    "## IMPORTS"
   ]
  },
  {
   "cell_type": "code",
   "execution_count": 30,
   "metadata": {},
   "outputs": [],
   "source": [
    "import numpy as np\n",
    "from pandas.io.parsers import read_csv \n",
    "import math as mt\n",
    "import matplotlib.pyplot as plt"
   ]
  },
  {
   "cell_type": "code",
   "execution_count": 38,
   "metadata": {},
   "outputs": [],
   "source": [
    "# Funcion que carga el fichero csv especificado y lo devuelve en un array de numpy\n",
    "def carga_csv(file_name):\n",
    "    valores = read_csv(file_name, header = None).values\n",
    "    # suponemos que siempre trabajaremos con float     \n",
    "    return valores.astype(float)"
   ]
  },
  {
   "cell_type": "code",
   "execution_count": 58,
   "metadata": {},
   "outputs": [
    {
     "data": {
      "image/png": "[encoded data removed]",
      "text/plain": [
       "<Figure size 432x288 with 1 Axes>"
      ]
     },
     "metadata": {
      "needs_background": "light"
     },
     "output_type": "display_data"
    }
   ],
   "source": [
    "datos = carga_csv('ex1data1.csv')\n",
    "\n",
    "#print(datos)\n",
    "\n",
    "X = datos[:, :-1]\n",
    "np.shape(X)         # (97, 1)     \n",
    "Y = datos[:, -1]\n",
    "np.shape(Y)         # (97,)\n",
    "\n",
    "vX = datos[:, 0]\n",
    "vY = datos[:, 1]\n",
    "plt.scatter(vX, vY, marker = 'x', c='r')\n",
    "\n",
    "plt.xlabel('Population')\n",
    "plt.ylabel('Beneficts')\n",
    "\n",
    "m = np.shape(X)[0]\n",
    "n = np.shape(X)[1]\n",
    "\n",
    "# Añadimos una columna de 1's a la X\n",
    "X = np.hstack([np.ones([m, 1]), X])\n",
    "\n",
    "alpha = 0.01\n",
    "theta = np.array[0, 0]\n",
    "\n",
    "def h(x, Theta):\n",
    "    return np.dot(x, Theta)\n",
    "\n",
    "def coste(X, Y, Theta):\n",
    "    H = np.dot(X, Theta)\n",
    "    Aux = (H - Y) ** 2\n",
    "    return Aux.sum() / (2 * len(X))\n",
    "\n",
    "def descenso_gradiente(x, y, alpha, times):\n",
    "    for i in range(times):\n",
    "        H = h(x, theta)\n",
    "        theta[0] = theta[0] - alpha*np.sum(H-h)/times\n",
    "    \n",
    "    \n",
    "\n",
    "\n",
    "\n",
    "\n",
    "#Thetas, costes = descenso_gradiente(X, Y, alpha, 1500)\n"
   ]
  },
  {
   "cell_type": "code",
   "execution_count": null,
   "metadata": {},
   "outputs": [],
   "source": []
  }
 ],
 "metadata": {
  "kernelspec": {
   "display_name": "Python 3",
   "language": "python",
   "name": "python3"
  },
  "language_info": {
   "codemirror_mode": {
    "name": "ipython",
    "version": 3
   },
   "file_extension": ".py",
   "mimetype": "text/x-python",
   "name": "python",
   "nbconvert_exporter": "python",
   "pygments_lexer": "ipython3",
   "version": "3.7.3"
  }
 },
 "nbformat": 4,
 "nbformat_minor": 2
}
