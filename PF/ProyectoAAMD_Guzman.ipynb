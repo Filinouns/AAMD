{
 "cells": [
  {
   "cell_type": "markdown",
   "metadata": {},
   "source": [
    "<h1><center><font color='red'>PROYECTO FINAL  APRENDIZAJE AUTOMÁTICO</font></center></h1>\n",
    "<h1><center>¿Me puedo comer ese champiñon?</center></h1>\n",
    "\n",
    "# <font size=\"4\">Alumnos: Gonzalo Guzmán del Río y Alejandro Ortega Álvarez</font>\n",
    "\n",
    "El objetivo de este proyecto será el de conseguir o llegar a aprender que características, hacen que unos champiñones u otros sean venenosos o no, y por tanto no aptos para consumo. Para llegar a estos \"conocimientos\" se llevarán a cabo diferentes algoritmos de Aprendizaje Automático, que nos permitirán llegar a clasificar si un champiñon es potencialmente peligroso o no. \n",
    "Para el tratado de datos se partirá de un dataset \"contenido\" en la página <a href=\"https://www.kaggle.com/uciml/mushroom-classification\">Kaggle.com</a>. Este dataset contiene alrededor de 23 características como:\n",
    "- Forma del gorro.\n",
    "- Color del gorro.\n",
    "- Entorno.\n",
    "- Densidad.\n",
    "\n",
    "Además de estos campos, cada muestra de ejemplo se identificará como Venenosa o Comestible.\n",
    "\n",
    "Por tanto, nuestras pregunta es:\n",
    "- ¿Qué tipos de modelos de aprendizaje automático se ajustan más a este dataset?\n",
    "\n",
    "A continuación desarrollaremos diferentes técnicas de Machine Learning como **regresión logística, redes neuronales o SVM (Support Vector Machines)**.\n",
    "\n",
    "Para ello, en primer lugar, para ponernos en contexto, queríamos conocer cuál era el número real de muestras de ejemplo que teníamos para trabajar. Para un mejor conocimiento, decidimos representar en un gráfico de barras la cantidad de muestras venenosas y comestibles que había.\n",
    "<img src=\"poisonous and edibles.png\">\n",
    "\n",
    "Como se puede observar, la cantidad de muestras comestibles supera ligeramente, lo que nos da a entender, que la probabilidad de que una seta sea venonosa, es inferior a que sea comestible.\n",
    "\n",
    "\n",
    "Una vez vista esta representación, también nos pareció interesante, seleccionar algunas características de las muestras, para comparar entre venenosas y comestibles, como:\n",
    "- Cap-shape (Forma de la gorro)\n",
    "\n",
    "<img src=\"comparison1.png\">\n",
    "\n",
    "\n",
    "**Como podemos comprobar, en cuanto a la forma del gorro, en las setas comestibles predominan las formas convexas y planas frente a las muestras venenosas, mientras que estas, tienden a tener formas más \"enredadas\" que las muestras comestibles.**\n",
    "\n",
    "- Cap-color (Color del gorro)\n",
    "\n",
    "<img src=\"comparison2.png\">\n",
    "\n",
    "\n",
    "**Respecto al color del gorro, en las setas que son aptas para el consumo, predominan los colores típicos de una seta, como el marrón. Sin embargo, el color rojo, con el que se suele representar a una seta, predomina en las muestras no aptas para el consumo.**\n",
    "\n",
    "- Odor (Sabor)\n",
    "\n",
    "<img src=\"comparison3.png\">\n",
    "\n",
    "**La mayoría de las setas comestibles, tienden a ser insulsas, poco sabrosas, sin embargo, también hay sabores como el almendrado, o anisado. En las muestras venenosas, predomina el sabor a tierra, sucio.**\n",
    "\n",
    "- Stalk-color-above-ring (Color del tallo)\n",
    "\n",
    "<img src=\"comparison4.png\">\n",
    "\n",
    "**Si queremos conocer por el tallo si una seta es venenosa o no, tendremos que fijarnos sobre todo en el blanco y en el rosa. La mayor parte de muestras comestibles tienen un tallo blanco o gris, sin embargo, las muestras venenosas, aparte de poder tener el tallo blanco, también podría ser rosa.**\n",
    "- Spore-print-color (Color de las esporas)\n",
    "\n",
    "<img src=\"comparison5.png\">\n",
    "\n",
    "\n",
    "**Finalmente, en cuanto al color de las esporas, en las setas venenosas predomina el color blanco, mientras que en las muestras comestibles, predomina el marrón.**\n",
    "\n",
    "Después de este pequeño análisis, llevaremos a cabo las técnicas de aprendizaje automático, especificadas más arriba, para poder llegar a intuir, o predecir, que técnica nos permitirá saber con más certeza si una seta es venenosa o no.\n",
    "\n",
    "\n",
    "**REGRESIÓN LOGÍSTICA**:\n",
    "\n",
    "En regresión logística hemos llevado a cabo las operaciones ya conocidas, del cálculo del gradiente, sigmoide y coste, regularizados, para llegar a conseguir las thetas óptimas que nos permitan predecir con acierto, el **99%** de las veces si una seta es venenosa o no. El tiempo que ha llevado consigo la obtención de thetas óptimas ha sido de 0.5 segundos. Por tanto, obtenemos un buen resultado.\n",
    "\n",
    "\n",
    "**REDES NEURONALES**:\n",
    "\n",
    "Para las redes neuronales también hemos calculado sus respectivos métodos de derivada de la sigmoide, cálculo del gradiente a partir de la propagación hacia atrás, pasándole a cada nodo su respectivo error anterior. Para ello se crean casos de entrenamiento que se utilizarán en la propagación hacia atrás, lo cuál nos permitirá obtener, las thetas óptimas. En las redes neuronales este proceso es más lento, debido a las iteraciones que tiene que realizar (especificadas en la función optimize). Tarda alrededor de 20 minutos, con un porcentaje de acierto del **96%**\n",
    "\n",
    "\n",
    "**SVM (SUPPORT VECTOR MACHINES)**:\n",
    "\n",
    "Por último utilizaremos un clasificador SVM(Conjunto de algoritmos de aprendizaje supervisado). Utilizaremos tanto el \"modo\" **lineal** como el \"modo\" **Gaussiano**. En el entrenamiento del modo lineal obtenemos un tiempo de 0.05 segundos y un porcentaje de acierto del **99%**. En el SVM Gaussiano obtenemos un tiempo de 0.12 segundos, y un porcentaje de éxito de 99% también.\n",
    "\n",
    "\n",
    "Finalmente obtenemos la siguiente gráfica en cuanto a comparación de tiempos:\n",
    "(logistic regression, neural networks, svm lineal, svm gaussian)\n",
    "\n",
    "<img src=\"successcomparison.png\">"
   ]
  },
  {
   "cell_type": "markdown",
   "metadata": {},
   "source": [
    "# ANEXO\n",
    "\n",
    "Aquí podemos encontrar el código utilizado para el desarrollo del proyecto"
   ]
  },
  {
   "cell_type": "markdown",
   "metadata": {},
   "source": [
    "# READING VALUES"
   ]
  },
  {
   "cell_type": "code",
   "execution_count": 14,
   "metadata": {},
   "outputs": [
    {
     "name": "stdout",
     "output_type": "stream",
     "text": [
      "Read values:\n",
      " [['p' 'x' 's' ... 'k' 's' 'u']\n",
      " ['e' 'x' 's' ... 'n' 'n' 'g']\n",
      " ['e' 'b' 's' ... 'n' 'n' 'm']\n",
      " ...\n",
      " ['e' 'f' 's' ... 'b' 'c' 'l']\n",
      " ['p' 'k' 'y' ... 'w' 'v' 'l']\n",
      " ['e' 'x' 's' ... 'o' 'c' 'l']] \n",
      "\n",
      "\n",
      "\n",
      "\n",
      "Features:\n",
      " [['x' 'n' 'p' 'w' 'k']\n",
      " ['x' 'y' 'a' 'w' 'n']\n",
      " ['b' 'w' 'l' 'w' 'n']\n",
      " ...\n",
      " ['f' 'n' 'n' 'o' 'b']\n",
      " ['k' 'n' 'y' 'w' 'w']\n",
      " ['x' 'n' 'n' 'o' 'o']] \n",
      "\n",
      "\n",
      "Features in table format:\n",
      "      cap-shape cap-color odor stalk-color-above-ring spore-print-color\n",
      "0            x         n    p                      w                 k\n",
      "1            x         y    a                      w                 n\n",
      "2            b         w    l                      w                 n\n",
      "3            x         w    p                      w                 k\n",
      "4            x         g    n                      w                 n\n",
      "...        ...       ...  ...                    ...               ...\n",
      "8119         k         n    n                      o                 b\n",
      "8120         x         n    n                      o                 b\n",
      "8121         f         n    n                      o                 b\n",
      "8122         k         n    y                      w                 w\n",
      "8123         x         n    n                      o                 o\n",
      "\n",
      "[8124 rows x 5 columns] \n",
      "\n",
      "\n",
      "\n",
      "\n",
      "Classes:\n",
      " ['p' 'e' 'e' ... 'e' 'p' 'e'] \n",
      "\n",
      "\n",
      "Classes in table format:\n",
      "      class\n",
      "0        p\n",
      "1        e\n",
      "2        e\n",
      "3        p\n",
      "4        e\n",
      "...    ...\n",
      "8119     e\n",
      "8120     e\n",
      "8121     e\n",
      "8122     p\n",
      "8123     e\n",
      "\n",
      "[8124 rows x 1 columns] \n",
      "\n",
      "\n",
      "\n",
      "\n"
     ]
    }
   ],
   "source": [
    "# IMPORTS (Temporal: Irán aumentando a medida que las vayamos necesitando)\n",
    "import numpy as np\n",
    "import time\n",
    "import pandas as pd\n",
    "from pandas import DataFrame\n",
    "from pandas.io.parsers import read_csv\n",
    "import matplotlib.pyplot as plt\n",
    "import scipy.optimize as opt\n",
    "from sklearn.preprocessing import PolynomialFeatures\n",
    "from sklearn import preprocessing\n",
    "from sklearn.model_selection import train_test_split\n",
    "from sklearn import svm\n",
    "\n",
    "def carga_csv(file_name):\n",
    "    values = read_csv(file_name).values\n",
    "    return values\n",
    "\n",
    "values = carga_csv(\"mushrooms.csv\")\n",
    "\n",
    "print(\"Read values:\\n\", values, \"\\n\\n\\n\\n\")\n",
    "\n",
    "#Características seleccionadas de todas las muestras\n",
    "features = values[:, [1, 3, 5, 14, 20]]\n",
    "print(\"Features:\\n\", features, \"\\n\\n\")\n",
    "#Pasamos los datos a formato tabla\n",
    "dataFeatures = DataFrame(features)\n",
    "#Características a tener en cuenta\n",
    "dataFeatures.columns = ['cap-shape', 'cap-color', 'odor', 'stalk-color-above-ring', 'spore-print-color']\n",
    "print(\"Features in table format:\\n\", dataFeatures, \"\\n\\n\\n\\n\")\n",
    "\n",
    "#Clase de cada una de las muestras (Venenosa o comestible)\n",
    "mushroomClasses = values[:, 0]\n",
    "print(\"Classes:\\n\", mushroomClasses, \"\\n\\n\")\n",
    "dataClasses = DataFrame(mushroomClasses)\n",
    "dataClasses.columns = ['class']\n",
    "print(\"Classes in table format:\\n\", dataClasses, \"\\n\\n\\n\\n\")\n",
    "\n",
    "#Aquí guardaremos los tiempos para mostrar en la gráfica final. Tamaño 4, ya que son\n",
    "#los 4 modelos diferentes que tenemos\n",
    "models_times = np.arange(4, dtype = float)"
   ]
  },
  {
   "cell_type": "markdown",
   "metadata": {},
   "source": [
    "# HOW MANY EDIBLE OR POISONOUS MUSHROOMS DO WE HAVE?"
   ]
  },
  {
   "cell_type": "code",
   "execution_count": 15,
   "metadata": {},
   "outputs": [
    {
     "name": "stdout",
     "output_type": "stream",
     "text": [
      "8124\n"
     ]
    },
    {
     "data": {
      "image/png": "[encoded data removed]",
      "text/plain": [
       "<Figure size 576x504 with 1 Axes>"
      ]
     },
     "metadata": {
      "needs_background": "light"
     },
     "output_type": "display_data"
    }
   ],
   "source": [
    "#Representamos la cantidad de muestras de ejmplo que son comestibles y venenosas 0:Edible, 1:Poisonous\n",
    "print(len(dataClasses))\n",
    "edible = []\n",
    "poisonous = []\n",
    "\n",
    "for cl in mushroomClasses:\n",
    "    if cl=='e':\n",
    "        edible.append(cl)\n",
    "    else:\n",
    "        poisonous.append(cl)\n",
    "\n",
    "xBars = ['poisonous: ' + str(len(poisonous)), 'edible:  ' + str(len(edible))]        \n",
    "ancho = 0.8\n",
    "fig, ax = plt.subplots(figsize=(8,7))\n",
    "index = np.arange(len(xBars))\n",
    "plt.bar(index, [len(poisonous), len(edible)], ancho, color='red')\n",
    "plt.xlabel('Poisonous or Edible', fontsize=15)\n",
    "plt.ylabel('Quantity', fontsize=15)\n",
    "plt.xticks(index, xBars, fontsize=12, rotation=30)\n",
    "plt.title('How Many poisonous and edible samples do we have?')\n",
    "plt.savefig('poisonous and edibles.png')\n",
    "#Mayor número de muestras comestibles que venenosas, como se puede observar en la gráfica"
   ]
  },
  {
   "cell_type": "markdown",
   "metadata": {},
   "source": [
    "# COMPARING FEATURES"
   ]
  },
  {
   "cell_type": "code",
   "execution_count": 16,
   "metadata": {},
   "outputs": [
    {
     "data": {
      "image/png": "[encoded data removed]",
      "text/plain": [
       "<Figure size 576x504 with 1 Axes>"
      ]
     },
     "metadata": {
      "needs_background": "light"
     },
     "output_type": "display_data"
    },
    {
     "data": {
      "image/png": "[encoded data removed]",
      "text/plain": [
       "<Figure size 576x504 with 1 Axes>"
      ]
     },
     "metadata": {
      "needs_background": "light"
     },
     "output_type": "display_data"
    },
    {
     "data": {
      "image/png": "[encoded data removed]",
      "text/plain": [
       "<Figure size 576x504 with 1 Axes>"
      ]
     },
     "metadata": {
      "needs_background": "light"
     },
     "output_type": "display_data"
    },
    {
     "data": {
      "image/png": "[encoded data removed]",
      "text/plain": [
       "<Figure size 576x504 with 1 Axes>"
      ]
     },
     "metadata": {
      "needs_background": "light"
     },
     "output_type": "display_data"
    },
    {
     "data": {
      "image/png": "[encoded data removed]",
      "text/plain": [
       "<Figure size 576x504 with 1 Axes>"
      ]
     },
     "metadata": {
      "needs_background": "light"
     },
     "output_type": "display_data"
    }
   ],
   "source": [
    "i = 0\n",
    "def drawCompareGraphic(feature, title, ticklabels):\n",
    "    global i\n",
    "    #Guardamos la cantidad de champiñones que hay en cada tipo de forma de gorra\n",
    "    shape_cap = dataFeatures[feature].value_counts()\n",
    "    #Tenemos cada una de las etiquetas de la \"características\"\n",
    "    shape_labels = shape_cap.axes[0].tolist()\n",
    "\n",
    "    inde = np.arange(len(shape_labels))\n",
    "\n",
    "    poisonousShape = []\n",
    "    edibleShape = []\n",
    "\n",
    "    for shape in shape_labels:\n",
    "        quantity = len(dataFeatures[dataFeatures[feature] == shape].index)\n",
    "        edibles = len(dataFeatures[(dataFeatures[feature] == shape) & (dataClasses['class'] == 'e')].index)\n",
    "        edibleShape.append(edibles)\n",
    "        poisonousShape.append(quantity-edibles)\n",
    "\n",
    "    ancho = 0.4\n",
    "    fig, ax = plt.subplots(figsize=(8,7))\n",
    "    ax.bar(inde, edibleShape, ancho, color='orange')\n",
    "    ax.bar(inde+ancho, poisonousShape, ancho, color='green')\n",
    "\n",
    "    ax.set_xlabel(feature, fontsize = 15)\n",
    "    ax.set_ylabel('Quantity',fontsize=15)  \n",
    "    ax.set_title(title,fontsize=15)\n",
    "    ax.set_xticks(inde+ancho/2)\n",
    "    ax.set_xticklabels(ticklabels, fontsize=10)\n",
    "    ax.legend(['edible', 'poisonous'])\n",
    "    i = i + 1\n",
    "    plt.savefig('comparison' + str(i) + '.png')\n",
    "\n",
    "drawCompareGraphic('cap-shape', 'Comparison Cap Shapes', ('convex', 'flat', 'knobbed', 'bell', 'sunken', 'conical'))\n",
    "drawCompareGraphic('cap-color', 'Comparison Cap Colors', ('brown', 'grey', 'red', 'yellow', 'white', 'bright', \n",
    "                                                         'pink', 'cinnamon', 'purple', 'green'))\n",
    "drawCompareGraphic('odor', 'Comparison odor', ('none', 'foul', 'fishy', 'spicy', 'anise', 'almond', 'pungent',\n",
    "                                              'creosote', 'musty'))\n",
    "drawCompareGraphic('stalk-color-above-ring', 'Comparison between stalk color above ring', ('white', 'pink', 'grey', 'brown', 'buff', \n",
    "                                                                                          'orange', 'red', 'cinnamon', 'yellow'))\n",
    "drawCompareGraphic('spore-print-color', 'Comparison spore print color', ('white', 'brown', 'black', 'chocolate', \n",
    "                                                                        'green', 'yellow', 'buff', 'purple', 'orange'))"
   ]
  },
  {
   "cell_type": "markdown",
   "metadata": {},
   "source": [
    "# SPLITTING DATA"
   ]
  },
  {
   "cell_type": "code",
   "execution_count": 17,
   "metadata": {},
   "outputs": [],
   "source": [
    "#Para no tratar con valores alfabéticos, transformaremos todos los datos, a valores numéricos\n",
    "labelEncode = preprocessing.LabelEncoder()\n",
    "\n",
    "#Convertimos los valores de las estadísticas a valores numéricos\n",
    "#Formato tabla que nos indica si en una posición hay un valor, con 0-1\n",
    "XArr = pd.get_dummies(dataFeatures).values\n",
    "\n",
    "#Igual para las clases (1:poisonous, 0:edible)\n",
    "YArr = labelEncode.fit_transform(dataClasses.values.ravel())"
   ]
  },
  {
   "cell_type": "markdown",
   "metadata": {},
   "source": [
    "# LOGISTIC REGRESSION"
   ]
  },
  {
   "cell_type": "code",
   "execution_count": 18,
   "metadata": {},
   "outputs": [
    {
     "name": "stdout",
     "output_type": "stream",
     "text": [
      "FEATURES SHAPE: (8124, 43)\n",
      "FEATURES SHAPE WITH 1s column: (8124, 44)\n",
      "EXECUTION TIME: 0.45924997329711914 seconds\n",
      "OPT THETAS:\n",
      " [ 1.71355639  0.02810828  3.97751649 -0.44971542 -0.65236852 -0.18312227\n",
      " -0.98326982 -0.47907426 -1.36723764 -0.25879517 -1.49357069  2.08382534\n",
      " -0.44813295 -0.91564068 -0.91564068  0.24676265  5.25373015 -9.40016354\n",
      "  8.11965001  6.25341628 -9.40016349  1.46056263 -7.84176175  6.75190359\n",
      "  2.87435438  2.8743543   0.77792492  1.46056263 -2.30927442 -0.33521967\n",
      " -0.99371745 -1.70237555  1.32746628  1.13712697  2.32206642 -0.55937112\n",
      "  1.43159863 -3.68742336 -3.73062053 -0.55937112  9.79031306 -2.5593953\n",
      "  2.16318599 -0.55937112]\n",
      "[99.72919744  1.          2.          3.        ]\n",
      "PREDICTIONS RESULT: 99.72919743968488\n"
     ]
    }
   ],
   "source": [
    "m = len(YArr)\n",
    "\n",
    "#La función sigmoide es la función h, la hipótesis\n",
    "def sigmoide(value):\n",
    "    s = 1/(1+np.exp(-value))\n",
    "    return s\n",
    "\n",
    "#FUNCIÓN DE COSTE\n",
    "def coste(O, X, Y):\n",
    "    H = sigmoide(np.dot(X,O))\n",
    "    logH = np.log(H)\n",
    "    logHT = logH.T\n",
    "    logAux = np.log((1- H))\n",
    "    logAuxT = logAux.T\n",
    "    YT = Y.T\n",
    "    sumatorio = (-1/m)* (np.dot(YT, logH) + np.dot((1-YT), logAux))\n",
    "    return sumatorio\n",
    "    \n",
    "#FUNCIÓN DE GRADIENTE\n",
    "def gradiente(O, X, Y):\n",
    "    return (X.T.dot((sigmoide(X.dot(O))) - Y))/m\n",
    "\n",
    "#FUNCIÓN DE COSTE REGULARIZADA (lambda)\n",
    "def coste2(O, X, Y, lam):\n",
    "    sol = (coste(O, X, Y) + (lam/(2*m))*(O**2).sum())\n",
    "    return sol\n",
    "   \n",
    "#FUNCIÓN DE GRADIENTE REGULARIZADA (lambda)\n",
    "def gradiente2(O, X, Y, lam):\n",
    "    AuxO = np.hstack([np.zeros([1]), O[1:,]])\n",
    "    return (((X.T.dot(sigmoide(X.dot(O))-Y))/m) \n",
    "    + (lam/m)*O)\n",
    "\n",
    "XArr2 = XArr.copy()\n",
    "XArr2 = np.insert (XArr2 ,0, 1, axis = 1)\n",
    "print(\"FEATURES SHAPE:\" ,XArr.shape)\n",
    "print(\"FEATURES SHAPE WITH 1s column:\" , XArr2.shape)\n",
    "start = time.time()\n",
    "thetas = np.ones(len(XArr2[0]))\n",
    "result = opt.fmin_tnc(func = coste2, x0 = thetas, fprime = gradiente2, args = (XArr2, YArr, 0.1))\n",
    "thetas_opt = result[0]\n",
    "end = time.time()\n",
    "print(\"EXECUTION TIME:\", end - start, \"seconds\")\n",
    "print(\"OPT THETAS:\\n\", thetas_opt)\n",
    "\n",
    "\n",
    "#Evaluación de los resultados obtenidos en las predicciones con las thetas óptimas\n",
    "def evalua(thetas, X, y):\n",
    "    thetasMat = np.matrix(thetas)   \n",
    "    z = np.dot(thetasMat,X.transpose())\n",
    "    resultados = sigmoide(z)\n",
    "    resultados[resultados >= 0.5] = 1\n",
    "    resultados[resultados < 0.5] = 0\n",
    "    admitidosPred = sum(np.where(resultados == y)).shape[0]\n",
    "    return (admitidosPred / len(y)) * 100\n",
    "prediction = evalua(thetas_opt, XArr2, YArr)\n",
    "models_times[0] = (prediction)\n",
    "print(models_times)\n",
    "print(\"PREDICTIONS RESULT:\",prediction)"
   ]
  },
  {
   "cell_type": "markdown",
   "metadata": {},
   "source": [
    "# NEURAL NETWORKS"
   ]
  },
  {
   "cell_type": "code",
   "execution_count": 23,
   "metadata": {},
   "outputs": [
    {
     "name": "stdout",
     "output_type": "stream",
     "text": [
      "1\n",
      "2\n",
      "STARTED\n"
     ]
    },
    {
     "name": "stderr",
     "output_type": "stream",
     "text": [
      "C:\\Users\\Gonzalo\\Anaconda3\\lib\\site-packages\\ipykernel_launcher.py:24: RuntimeWarning: divide by zero encountered in log\n",
      "C:\\Users\\Gonzalo\\Anaconda3\\lib\\site-packages\\ipykernel_launcher.py:24: RuntimeWarning: invalid value encountered in multiply\n",
      "C:\\Users\\Gonzalo\\Anaconda3\\lib\\site-packages\\ipykernel_launcher.py:24: RuntimeWarning: divide by zero encountered in log\n",
      "C:\\Users\\Gonzalo\\Anaconda3\\lib\\site-packages\\ipykernel_launcher.py:24: RuntimeWarning: invalid value encountered in multiply\n",
      "C:\\Users\\Gonzalo\\Anaconda3\\lib\\site-packages\\ipykernel_launcher.py:24: RuntimeWarning: divide by zero encountered in log\n",
      "C:\\Users\\Gonzalo\\Anaconda3\\lib\\site-packages\\ipykernel_launcher.py:24: RuntimeWarning: invalid value encountered in multiply\n"
     ]
    },
    {
     "name": "stdout",
     "output_type": "stream",
     "text": [
      "FINISHED\n",
      "EXECUTION TIME: 1123.7504136562347 seconds\n"
     ]
    }
   ],
   "source": [
    "def sigmoide(values): \n",
    "    return 1/(1+np.exp(-(values)))\n",
    "\n",
    "\n",
    "def dSigmoide(values): \n",
    "    return sigmoide(values) * (1 - sigmoide(values))\n",
    "\n",
    "\n",
    "def h0(X, theta1, theta2):     \n",
    "    a = np.insert(X, 0, 1, axis=1) \n",
    "    aa = np.dot(a,theta1.T)\n",
    "    afs = sigmoide(aa)\n",
    "    aadd = np.insert(afs, 0, 1, axis = 1)\n",
    "    a2dot = np.dot(aadd,theta2.T)\n",
    "    a2fs = sigmoide(a2dot) \n",
    "    return a2fs\n",
    "\n",
    "def pesosAleatorios(L_in, L_out):\n",
    "    Eini = 0.12\n",
    "    return np.random.uniform(-Eini, Eini, [L_out, 1 + L_in])\n",
    "    \n",
    "\n",
    "def coste(theta1, theta2, X, y, reg):\n",
    "    J = np.sum(-y * np.log(h0(X, theta1, theta2))-(1-y)*np.log(1-h0(X, theta1, theta2)))/len(y)\n",
    "    return J\n",
    "\n",
    "def costeReg(theta1, theta2, X, y, reg):\n",
    "    thetaAux1 = np.delete(theta1, 0, 1)\n",
    "    thetaAux2 = np.delete(theta2, 0, 1)\n",
    "    regularized = (reg / (2*len(X))) * (sum(sum(np.power(thetaAux1, 2))) + sum(sum(np.power(thetaAux2, 2))))\n",
    "    return coste(theta1, theta2, X, y, reg) + regularized \n",
    "\n",
    "def gradiente(theta1, theta2, X, y, reg):\n",
    "    \n",
    "    a1 = np.insert(X, 0, 1, axis=1) \n",
    "    z2 = np.dot(a1, theta1.T)\n",
    "\n",
    "    a2 = sigmoide(z2)\n",
    "    a2 = np.insert(a2, 0, 1, axis = 1)\n",
    "    z3 = np.dot(a2,theta2.T)\n",
    "    a3 = sigmoide(z3)\n",
    "    \n",
    "    d3 = np.max(a3) - y\n",
    "    d2 = np.delete(np.dot(d3, theta2), 0, 1) * dSigmoide(z2)\n",
    "\n",
    "    A1 = np.dot(d2.T, a1)\n",
    "    A2 = np.dot(d3.T, a2)\n",
    "    \n",
    "    A1 = A1 / len(X)\n",
    "    A2 = A2 / len(X)\n",
    "    return A1, A2\n",
    "\n",
    "def gradienteReg(theta1, theta2, X, y, reg):\n",
    "    A1, A2 = gradiente(theta1, theta2, X ,y, reg)\n",
    "    reg1 = (reg / len(y)) * theta1\n",
    "    reg2 = (reg / len(y)) * theta2\n",
    "    \n",
    "    reg1[:,:1]=0\n",
    "    reg2[:,:1]=0\n",
    "    \n",
    "    A1reg = A1.copy()\n",
    "    A2reg = A2.copy()\n",
    "    A1reg += reg1\n",
    "    A2reg += reg2\n",
    "    \n",
    "    return A1reg,A2reg\n",
    "     \n",
    "def backprop (params_rn, num_entradas, num_ocultas, num_etiquetas, X, y, reg):\n",
    "    thetaAux1 = np.reshape(params_rn[:num_ocultas * (num_entradas + 1)], (num_ocultas, (num_entradas + 1)))\n",
    "    thetaAux2 = np.reshape(params_rn[num_ocultas * (num_entradas + 1):], (num_etiquetas, (num_ocultas + 1)))\n",
    "    costt = coste(thetaAux1, thetaAux2, X, y, reg)\n",
    "    gradd1 ,gradd2 = gradiente(thetaAux1, thetaAux2, X, y, reg)\n",
    "    gradd = np.concatenate((np.ravel(gradd1),np.ravel(gradd2)))\n",
    "    gradd.resize(1)\n",
    "    return gradd\n",
    "\n",
    "def backpropReg (params_rn, num_entradas, num_ocultas, num_etiquetas, X, y, reg):\n",
    "    thetaAux1 = np.reshape(params_rn[:num_ocultas * (num_entradas + 1)], (num_ocultas, (num_entradas + 1)))\n",
    "    thetaAux2 = np.reshape(params_rn[num_ocultas * (num_entradas + 1):], (num_etiquetas, (num_ocultas + 1)))\n",
    "    costt = costeReg(thetaAux1, thetaAux2, X, y, reg)\n",
    "    gradd1 ,gradd2 = gradienteReg(thetaAux1, thetaAux2, X, y, reg)\n",
    "    gradd = np.concatenate((np.ravel(gradd1),np.ravel(gradd2)))\n",
    "    return costt\n",
    "\n",
    "XNN = XArr.copy()\n",
    "YNN = YArr.copy()\n",
    "\n",
    "\n",
    "#Creación de casos de entrenamiento aleatorios para las redes neuronales\n",
    "X_Train, X_test, Y_Train, Y_test = train_test_split(XNN, YNN, test_size=0.33, random_state=42)\n",
    "\n",
    "print(Y_Train.ndim)\n",
    "Y_Train = np.expand_dims(Y_Train, axis = 1)\n",
    "print(Y_Train.ndim)\n",
    "\n",
    "\n",
    "#Creación de las etiquetas necesarias\n",
    "tags = np.zeros((len(Y_Train), 2))\n",
    "for i in range(len(Y_Train)):\n",
    "    tags[i][Y_Train[i]] = 1\n",
    "    \n",
    "#Empezamos \"entrenamiento\"\n",
    "start = time.time()\n",
    "\n",
    "print(\"STARTED\")\n",
    "\n",
    "#Inicializamos theta con pesos aleatorios\n",
    "theta1 = pesosAleatorios(X_Train.shape[1], 10)\n",
    "theta2 = pesosAleatorios(10, 2)\n",
    "thetaVec = np.append(theta1, theta2).reshape(-1)\n",
    "\n",
    "#Obtención de las thetas óptimas\n",
    "result = opt.minimize(fun=backpropReg, x0=thetaVec, args=(43, 10, 2, X_Train, tags, 0))\n",
    "thetas_opt = result.x\n",
    "end = time.time()\n",
    "\n",
    "print(\"FINISHED\")\n",
    "\n",
    "print(\"EXECUTION TIME:\", end - start, \"seconds\")"
   ]
  },
  {
   "cell_type": "code",
   "execution_count": 24,
   "metadata": {},
   "outputs": [
    {
     "name": "stdout",
     "output_type": "stream",
     "text": [
      "PREDICTIONS NEURAL NETWORK RESULT: 95.97165236851922\n"
     ]
    }
   ],
   "source": [
    "#Reestablecemos theta para la evalución de resultados\n",
    "theta1 = np.reshape(result.x[:10*(43 + 1)], (10, (43+1)))\n",
    "theta2 = np.reshape(result.x[10*(43+1):], (2, (10+1)))\n",
    "\n",
    "def evalua(results, Y):\n",
    "    numAciertos = 0\n",
    "    for i in range(results.shape[0]):\n",
    "        result = np.argmax(results[i])\n",
    "        if result == Y[i]: numAciertos += 1  \n",
    "    return (numAciertos/(results.shape[0]))*100\n",
    "\n",
    "pred = evalua(h0(X_test, theta1, theta2), Y_test)\n",
    "models_times[1] = (pred)\n",
    "print(\"PREDICTIONS NEURAL NETWORK RESULT:\", pred)"
   ]
  },
  {
   "cell_type": "markdown",
   "metadata": {},
   "source": [
    "# SUPPORT VECTOR MACHINES\n",
    "\n",
    "**SVM LINEAL**"
   ]
  },
  {
   "cell_type": "code",
   "execution_count": 25,
   "metadata": {},
   "outputs": [
    {
     "name": "stdout",
     "output_type": "stream",
     "text": [
      "X TRAIN:\n",
      " [[0 0 1 ... 0 0 0]\n",
      " [0 0 0 ... 0 0 0]\n",
      " [0 0 0 ... 0 0 0]\n",
      " ...\n",
      " [0 0 1 ... 0 0 0]\n",
      " [0 0 0 ... 0 1 0]\n",
      " [0 0 0 ... 0 1 0]]\n",
      "\n",
      "X TEST:\n",
      " [[0 0 1 ... 0 0 0]\n",
      " [0 0 1 ... 0 1 0]\n",
      " [0 0 0 ... 0 1 0]\n",
      " ...\n",
      " [0 0 0 ... 0 0 0]\n",
      " [0 0 0 ... 0 0 0]\n",
      " [0 0 1 ... 0 0 0]]\n",
      "\n",
      "Y TRAIN:\n",
      " [0 1 0 ... 0 1 0]\n",
      "\n",
      "Y TEST:\n",
      " [0 1 1 ... 0 0 0]\n",
      "\n",
      " TRAINING STARTED\n",
      "\n",
      "SVM TRAINED SHAPE: SVC(C=1, cache_size=200, class_weight=None, coef0=0.0,\n",
      "    decision_function_shape='ovr', degree=3, gamma='auto_deprecated',\n",
      "    kernel='linear', max_iter=-1, probability=False, random_state=None,\n",
      "    shrinking=True, tol=0.001, verbose=False)\n",
      "\n",
      " TRAINING FINISHED\n",
      "\n",
      " TRAINING EXECUTION TIME: 0.043883562088012695 seconds\n",
      "\n",
      "Y PREDICTED SHAPE: (2681,)        TEST Y SHAPE: (2681,)\n",
      "\n",
      "PREDICTIONS SVM LINEAL 99.58970533383066\n"
     ]
    }
   ],
   "source": [
    "XSvm = XArr.copy()\n",
    "YSvm = YArr.copy()\n",
    "\n",
    "X_Train, X_test, Y_Train, Y_test = train_test_split(XSvm, YSvm, test_size=0.33, random_state=42)\n",
    "\n",
    "print(\"X TRAIN:\\n\", X_Train)\n",
    "print(\"\\nX TEST:\\n\", X_test)\n",
    "print(\"\\nY TRAIN:\\n\", Y_Train)\n",
    "print(\"\\nY TEST:\\n\", Y_test)\n",
    "\n",
    "#SVM de tipo lineal\n",
    "svmLineal = svm.SVC(C=1, kernel='linear')\n",
    "\n",
    "#Entrenamiento de las \"redes\". Similar a buscar las thetas óptimas\n",
    "start = time.time()\n",
    "print(\"\\n TRAINING STARTED\")\n",
    "svmFitted = svmLineal.fit(X_Train, Y_Train)\n",
    "print(\"\\nSVM TRAINED SHAPE:\",svmFitted)\n",
    "end = time.time()\n",
    "print(\"\\n TRAINING FINISHED\")\n",
    "print(\"\\n TRAINING EXECUTION TIME:\", end - start, \"seconds\")\n",
    "#predecimos Y a partir de la x \"entrenada\"\n",
    "predictY = svmLineal.predict(X_test)\n",
    "\n",
    "def evalua(results, Y):\n",
    "    numAciertos = 0\n",
    "    for i in range(len(Y_test)):\n",
    "        if results[i] == Y[i]: numAciertos += 1  \n",
    "    return (numAciertos/(len(Y_test)))*100\n",
    "\n",
    "print(\"\\nY PREDICTED SHAPE:\",predictY.shape, \"       TEST Y SHAPE:\", Y_test.shape)\n",
    "success = evalua(predictY, Y_test)\n",
    "models_times[2] = success\n",
    "print(\"\\nPREDICTIONS SVM LINEAL\",success)"
   ]
  },
  {
   "cell_type": "markdown",
   "metadata": {},
   "source": [
    "**SVM GAUSSIANO**"
   ]
  },
  {
   "cell_type": "code",
   "execution_count": 26,
   "metadata": {},
   "outputs": [
    {
     "name": "stdout",
     "output_type": "stream",
     "text": [
      "X TRAIN:\n",
      " [[0 0 1 ... 0 0 0]\n",
      " [0 0 0 ... 0 0 0]\n",
      " [0 0 0 ... 0 0 0]\n",
      " ...\n",
      " [0 0 1 ... 0 0 0]\n",
      " [0 0 0 ... 0 1 0]\n",
      " [0 0 0 ... 0 1 0]]\n",
      "\n",
      "X TEST:\n",
      " [[0 0 1 ... 0 0 0]\n",
      " [0 0 1 ... 0 1 0]\n",
      " [0 0 0 ... 0 1 0]\n",
      " ...\n",
      " [0 0 0 ... 0 0 0]\n",
      " [0 0 0 ... 0 0 0]\n",
      " [0 0 1 ... 0 0 0]]\n",
      "\n",
      "Y TRAIN:\n",
      " [0 1 0 ... 0 1 0]\n",
      "\n",
      "Y TEST:\n",
      " [0 1 1 ... 0 0 0]\n",
      "\n",
      " TRAINING STARTED\n",
      "\n",
      "SVM TRAINED SHAPE: SVC(C=1, cache_size=200, class_weight=None, coef0=0.0,\n",
      "    decision_function_shape='ovr', degree=3, gamma=49.99999999999999,\n",
      "    kernel='rbf', max_iter=-1, probability=False, random_state=None,\n",
      "    shrinking=True, tol=0.001, verbose=False)\n",
      "\n",
      " TRAINING FINISHED\n",
      "\n",
      " TRAINING EXECUTION TIME: 0.12669897079467773 seconds\n",
      "\n",
      "Y PREDICTED SHAPE: (2681,)        TEST Y SHAPE: (2681,)\n",
      "\n",
      "PREDICTIONS SVM GAUSS 99.66430436404326\n"
     ]
    }
   ],
   "source": [
    "#SVM \n",
    "\n",
    "\n",
    "XSvmG = XArr.copy()\n",
    "YSvmG = YArr.copy()\n",
    "\n",
    "X_Train, X_test, Y_Train, Y_test = train_test_split(XSvmG, YSvmG, test_size=0.33, random_state=42)\n",
    "print(\"X TRAIN:\\n\", X_Train)\n",
    "print(\"\\nX TEST:\\n\", X_test)\n",
    "print(\"\\nY TRAIN:\\n\", Y_Train)\n",
    "print(\"\\nY TEST:\\n\", Y_test)\n",
    "\n",
    "C=1\n",
    "sigma = 0.1\n",
    "svmGauss = svm.SVC(C = C, kernel = 'rbf', gamma = 1/(2*sigma **2))\n",
    "\n",
    "start = time.time()\n",
    "print(\"\\n TRAINING STARTED\")\n",
    "svmGaussFitted = svmGauss.fit(X_Train, Y_Train)\n",
    "print(\"\\nSVM TRAINED SHAPE:\",svmGaussFitted)\n",
    "end = time.time()\n",
    "print(\"\\n TRAINING FINISHED\")\n",
    "print(\"\\n TRAINING EXECUTION TIME:\", end - start, \"seconds\")\n",
    "predictY = svmGauss.predict(X_test)\n",
    "print(\"\\nY PREDICTED SHAPE:\",predictY.shape, \"       TEST Y SHAPE:\", Y_test.shape)\n",
    "\n",
    "def evalua(results, Y):\n",
    "    numAciertos = 0\n",
    "    for i in range(len(Y_test)):\n",
    "        if results[i] == Y[i]: numAciertos += 1  \n",
    "    return (numAciertos/(len(Y_test)))*100\n",
    "\n",
    "success = evalua(predictY, Y_test)\n",
    "models_times[3] = success\n",
    "print(\"\\nPREDICTIONS SVM GAUSS\",success)"
   ]
  },
  {
   "cell_type": "markdown",
   "metadata": {},
   "source": [
    "# Comparación de eficacia"
   ]
  },
  {
   "cell_type": "code",
   "execution_count": 27,
   "metadata": {},
   "outputs": [
    {
     "data": {
      "image/png": "[encoded data removed]",
      "text/plain": [
       "<Figure size 576x504 with 1 Axes>"
      ]
     },
     "metadata": {
      "needs_background": "light"
     },
     "output_type": "display_data"
    }
   ],
   "source": [
    "xBars = ['Logistic Regression: ' + str(models_times[0]), \n",
    "         'Neural Networks: ' + str(models_times[1]), \n",
    "         'SVM Lineal: ' + str(models_times[2]), \n",
    "         'SVM Gaussian: ' + str(models_times[3])]        \n",
    "ancho = 0.8\n",
    "fig, ax = plt.subplots(figsize=(8,7))\n",
    "index = np.arange(len(xBars))\n",
    "plt.bar(index, [models_times[0], models_times[1], models_times[2], models_times[3]], ancho, color='#04B486')\n",
    "plt.xlabel('MACHINE LEARNING MODEL', fontsize=15)\n",
    "plt.ylabel('SUCCESS PERCENTAGE (%)', fontsize=15)\n",
    "plt.xticks(index, xBars, fontsize=8, rotation=30)\n",
    "plt.title('SUCCESS PERCENTAGE COMPARISON', fontsize=15)\n",
    "plt.ylim((90, 100))\n",
    "plt.savefig('successcomparison.png')"
   ]
  }
 ],
 "metadata": {
  "kernelspec": {
   "display_name": "Python 3",
   "language": "python",
   "name": "python3"
  },
  "language_info": {
   "codemirror_mode": {
    "name": "ipython",
    "version": 3
   },
   "file_extension": ".py",
   "mimetype": "text/x-python",
   "name": "python",
   "nbconvert_exporter": "python",
   "pygments_lexer": "ipython3",
   "version": "3.7.4"
  }
 },
 "nbformat": 4,
 "nbformat_minor": 2
}
