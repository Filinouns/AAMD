{
 "cells": [
  {
   "cell_type": "code",
   "execution_count": 1,
   "metadata": {},
   "outputs": [],
   "source": [
    "import numpy as np\n",
    "from pandas.io.parsers import read_csv\n",
    "import matplotlib.pyplot as plt\n",
    "import scipy.optimize as opt\n",
    "from sklearn.preprocessing import PolynomialFeatures\n",
    "#from mpl_toolkits.mplot3d import Axes3D\n",
    "#from matplotlib import cm\n",
    "#from matplotlib.ticker import LinearLocator, FormatStrFormatter"
   ]
  },
  {
   "cell_type": "markdown",
   "metadata": {},
   "source": [
    "# PARTE 1: Regresión Logística"
   ]
  },
  {
   "cell_type": "markdown",
   "metadata": {},
   "source": [
    "# -Generación de datos\n",
    "Separamos los datos leidos del csv para una mejor comprensión a lo largo de la práctica"
   ]
  },
  {
   "cell_type": "code",
   "execution_count": 2,
   "metadata": {},
   "outputs": [],
   "source": [
    "def carga_csv(file_name):\n",
    "    valoresX = read_csv(file_name, header = None).values\n",
    "    return valoresX.astype(float)\n",
    "\n",
    "values = carga_csv(\"ex2data1.csv\")\n",
    "\n",
    "#Notas examenes\n",
    "examenes = values[:, :-1]\n",
    "\n",
    "#Notas de examenes con columna de 1s\n",
    "XEx = np.hstack([np.ones([examenes.shape[0], 1]), examenes])\n",
    "\n",
    "m = XEx.shape[0]\n",
    "n = XEx.shape[1]\n",
    "\n",
    "#Indices de aprobados y suspensos\n",
    "indices = values[:, -1]"
   ]
  },
  {
   "cell_type": "markdown",
   "metadata": {},
   "source": [
    "# -Visualización de los datos\n",
    "Creamos una gráfica en la que los aprobados aparecen con una 'O' y los suspensos con una 'X'"
   ]
  },
  {
   "cell_type": "code",
   "execution_count": 3,
   "metadata": {},
   "outputs": [
    {
     "data": {
      "image/png": "[encoded data removed]",
      "text/plain": [
       "<Figure size 432x288 with 1 Axes>"
      ]
     },
     "metadata": {
      "needs_background": "light"
     },
     "output_type": "display_data"
    }
   ],
   "source": [
    "def pinta_grafica():\n",
    "    plt.figure()\n",
    "    indexPassed = np.where(indices == 1)\n",
    "    plt.scatter(XEx[indexPassed, 1], XEx[indexPassed, 2], marker = '+', c = 'k')\n",
    "\n",
    "    indexNotPassed = np.where(indices == 0)\n",
    "    plt.scatter(XEx[indexNotPassed, 1], XEx[indexNotPassed, 2], s = 20 , marker = 'o', c = 'y')\n",
    "\n",
    "    plt.legend(['Admitted', 'Not Admitted'])\n",
    "    plt.xlabel('Exam 1 score')\n",
    "    plt.ylabel('Exam 2 score')\n",
    "    \n",
    "pinta_grafica()"
   ]
  },
  {
   "cell_type": "markdown",
   "metadata": {},
   "source": [
    "# -Función Sigmoide\n",
    "Calculamos la sigmoide de un valor, matriz o vector"
   ]
  },
  {
   "cell_type": "code",
   "execution_count": 4,
   "metadata": {},
   "outputs": [
    {
     "name": "stdout",
     "output_type": "stream",
     "text": [
      "SIGMOIDE VECTOR: [0.73105858 0.88079708 0.95257413 0.98201379 0.99330715 0.99752738]\n",
      "SIGMOIDE NUMERO: 0.7310585786300049\n",
      "SIGMOIDE MATRIZ: [[0.73105858 0.88079708]\n",
      " [0.95257413 0.98201379]\n",
      " [0.99330715 0.99752738]]\n"
     ]
    }
   ],
   "source": [
    "def sigmoide(value):\n",
    "    s = 1/(1+np.exp(-value))\n",
    "    return s\n",
    "\n",
    "#vector\n",
    "vector = sigmoide(np.array([1, 2, 3, 4, 5, 6]))\n",
    "print(\"SIGMOIDE VECTOR: \" + str(vector))\n",
    "\n",
    "#número\n",
    "numero = sigmoide(1)\n",
    "print(\"SIGMOIDE NUMERO: \" + str(numero))\n",
    "\n",
    "#matrix\n",
    "matrix = sigmoide(np.array([[1, 2], [3, 4], [5, 6]]))\n",
    "print(\"SIGMOIDE MATRIZ: \" + str(matrix))"
   ]
  },
  {
   "cell_type": "markdown",
   "metadata": {},
   "source": [
    "# -Cálculo de la función de coste y su gradiente"
   ]
  },
  {
   "cell_type": "code",
   "execution_count": 5,
   "metadata": {},
   "outputs": [
    {
     "data": {
      "text/plain": [
       "array([[  0.5       ,   0.5       ,   0.5       ,  -0.5       ,\n",
       "         -0.5       ,   0.5       ,  -0.5       ,  -0.5       ,\n",
       "         -0.5       ,  -0.5       ,   0.5       ,   0.5       ,\n",
       "         -0.5       ,  -0.5       ,   0.5       ,  -0.5       ,\n",
       "         -0.5       ,   0.5       ,  -0.5       ,  -0.5       ,\n",
       "          0.5       ,  -0.5       ,   0.5       ,   0.5       ,\n",
       "         -0.5       ,  -0.5       ,  -0.5       ,   0.5       ,\n",
       "          0.5       ,   0.5       ,  -0.5       ,  -0.5       ,\n",
       "          0.5       ,  -0.5       ,   0.5       ,   0.5       ,\n",
       "          0.5       ,  -0.5       ,   0.5       ,   0.5       ,\n",
       "         -0.5       ,   0.5       ,  -0.5       ,   0.5       ,\n",
       "          0.5       ,   0.5       ,  -0.5       ,  -0.5       ,\n",
       "         -0.5       ,  -0.5       ,  -0.5       ,  -0.5       ,\n",
       "         -0.5       ,   0.5       ,   0.5       ,   0.5       ,\n",
       "         -0.5       ,   0.5       ,  -0.5       ,  -0.5       ,\n",
       "         -0.5       ,   0.5       ,   0.5       ,   0.5       ,\n",
       "          0.5       ,   0.5       ,  -0.5       ,   0.5       ,\n",
       "         -0.5       ,  -0.5       ,   0.5       ,  -0.5       ,\n",
       "         -0.5       ,  -0.5       ,  -0.5       ,  -0.5       ,\n",
       "         -0.5       ,  -0.5       ,   0.5       ,   0.5       ,\n",
       "         -0.5       ,  -0.5       ,  -0.5       ,  -0.5       ,\n",
       "         -0.5       ,  -0.5       ,   0.5       ,  -0.5       ,\n",
       "         -0.5       ,   0.5       ,  -0.5       ,  -0.5       ,\n",
       "          0.5       ,  -0.5       ,  -0.5       ,  -0.5       ,\n",
       "         -0.5       ,  -0.5       ,  -0.5       ,  -0.5       ],\n",
       "       [ 32.82213703,  32.82213703,  32.82213703, -32.82213703,\n",
       "        -32.82213703,  32.82213703, -32.82213703, -32.82213703,\n",
       "        -32.82213703, -32.82213703,  32.82213703,  32.82213703,\n",
       "        -32.82213703, -32.82213703,  32.82213703, -32.82213703,\n",
       "        -32.82213703,  32.82213703, -32.82213703, -32.82213703,\n",
       "         32.82213703, -32.82213703,  32.82213703,  32.82213703,\n",
       "        -32.82213703, -32.82213703, -32.82213703,  32.82213703,\n",
       "         32.82213703,  32.82213703, -32.82213703, -32.82213703,\n",
       "         32.82213703, -32.82213703,  32.82213703,  32.82213703,\n",
       "         32.82213703, -32.82213703,  32.82213703,  32.82213703,\n",
       "        -32.82213703,  32.82213703, -32.82213703,  32.82213703,\n",
       "         32.82213703,  32.82213703, -32.82213703, -32.82213703,\n",
       "        -32.82213703, -32.82213703, -32.82213703, -32.82213703,\n",
       "        -32.82213703,  32.82213703,  32.82213703,  32.82213703,\n",
       "        -32.82213703,  32.82213703, -32.82213703, -32.82213703,\n",
       "        -32.82213703,  32.82213703,  32.82213703,  32.82213703,\n",
       "         32.82213703,  32.82213703, -32.82213703,  32.82213703,\n",
       "        -32.82213703, -32.82213703,  32.82213703, -32.82213703,\n",
       "        -32.82213703, -32.82213703, -32.82213703, -32.82213703,\n",
       "        -32.82213703, -32.82213703,  32.82213703,  32.82213703,\n",
       "        -32.82213703, -32.82213703, -32.82213703, -32.82213703,\n",
       "        -32.82213703, -32.82213703,  32.82213703, -32.82213703,\n",
       "        -32.82213703,  32.82213703, -32.82213703, -32.82213703,\n",
       "         32.82213703, -32.82213703, -32.82213703, -32.82213703,\n",
       "        -32.82213703, -32.82213703, -32.82213703, -32.82213703],\n",
       "       [ 33.11099904,  33.11099904,  33.11099904, -33.11099904,\n",
       "        -33.11099904,  33.11099904, -33.11099904, -33.11099904,\n",
       "        -33.11099904, -33.11099904,  33.11099904,  33.11099904,\n",
       "        -33.11099904, -33.11099904,  33.11099904, -33.11099904,\n",
       "        -33.11099904,  33.11099904, -33.11099904, -33.11099904,\n",
       "         33.11099904, -33.11099904,  33.11099904,  33.11099904,\n",
       "        -33.11099904, -33.11099904, -33.11099904,  33.11099904,\n",
       "         33.11099904,  33.11099904, -33.11099904, -33.11099904,\n",
       "         33.11099904, -33.11099904,  33.11099904,  33.11099904,\n",
       "         33.11099904, -33.11099904,  33.11099904,  33.11099904,\n",
       "        -33.11099904,  33.11099904, -33.11099904,  33.11099904,\n",
       "         33.11099904,  33.11099904, -33.11099904, -33.11099904,\n",
       "        -33.11099904, -33.11099904, -33.11099904, -33.11099904,\n",
       "        -33.11099904,  33.11099904,  33.11099904,  33.11099904,\n",
       "        -33.11099904,  33.11099904, -33.11099904, -33.11099904,\n",
       "        -33.11099904,  33.11099904,  33.11099904,  33.11099904,\n",
       "         33.11099904,  33.11099904, -33.11099904,  33.11099904,\n",
       "        -33.11099904, -33.11099904,  33.11099904, -33.11099904,\n",
       "        -33.11099904, -33.11099904, -33.11099904, -33.11099904,\n",
       "        -33.11099904, -33.11099904,  33.11099904,  33.11099904,\n",
       "        -33.11099904, -33.11099904, -33.11099904, -33.11099904,\n",
       "        -33.11099904, -33.11099904,  33.11099904, -33.11099904,\n",
       "        -33.11099904,  33.11099904, -33.11099904, -33.11099904,\n",
       "         33.11099904, -33.11099904, -33.11099904, -33.11099904,\n",
       "        -33.11099904, -33.11099904, -33.11099904, -33.11099904]])"
      ]
     },
     "execution_count": 5,
     "metadata": {},
     "output_type": "execute_result"
    }
   ],
   "source": [
    "theta = np.zeros((1, n)) #1 fila, 2 columnas\n",
    "#La función sigmoide es la función h, la hipótesis\n",
    "def coste(O, X, Y):\n",
    "    H = sigmoide(np.dot(X,O.T))\n",
    "    logH = np.log(H)\n",
    "    logAux = np.log((1- H))\n",
    "    sumatorio = (-1/m)* (np.dot(Y, logH) + np.dot((1-Y), logAux))\n",
    "    return sumatorio\n",
    "    \n",
    "\n",
    "def gradiente(O, X, Y):\n",
    "    return (X.T.dot((sigmoide(X.dot(O.T))) - Y))/m\n",
    "\n",
    "\n",
    "coste(theta, XEx, indices)\n",
    "gradiente(theta, XEx, indices)"
   ]
  },
  {
   "cell_type": "markdown",
   "metadata": {},
   "source": [
    "# -Pintar frontera"
   ]
  },
  {
   "cell_type": "code",
   "execution_count": 6,
   "metadata": {},
   "outputs": [
    {
     "data": {
      "image/png": "[encoded data removed]",
      "text/plain": [
       "<Figure size 432x288 with 1 Axes>"
      ]
     },
     "metadata": {
      "needs_background": "light"
     },
     "output_type": "display_data"
    }
   ],
   "source": [
    "def pinta_frontera_recta(X, Y, theta):\n",
    "    pinta_grafica()\n",
    "    x1_min, x1_max = X[:, 1].min(), X[:, 1].max()\n",
    "    x2_min, x2_max = X[:, 2].min(), X[:, 2].max()\n",
    "    \n",
    "    xx1, xx2 = np.meshgrid(np.linspace(x1_min, x1_max),\n",
    "                           np.linspace(x2_min, x2_max))\n",
    "    \n",
    "    h = sigmoide(np.c_[np.ones((xx1.ravel().shape[0], 1)),\n",
    "                     xx1.ravel(),\n",
    "                     xx2.ravel()].dot(theta))\n",
    "    h = h.reshape(xx1.shape)\n",
    "    \n",
    "    \n",
    "    plt.contour(xx1, xx2, h, [0.5], linewidths=1, colors='b')\n",
    "\n",
    "result = opt.fmin_tnc(func = coste, x0 = theta, fprime=gradiente, args=(XEx, indices))\n",
    "theta_opt = result[0]\n",
    "pinta_frontera_recta(XEx, indices, theta_opt)"
   ]
  },
  {
   "cell_type": "markdown",
   "metadata": {},
   "source": [
    "# -Evaluación de la regresión logística\n",
    "Implementación de una función que nos calcula el porcentaje de ejemplos que son correctos a partir del theta óptimo que hemos conseguido en el apartado anterior"
   ]
  },
  {
   "cell_type": "code",
   "execution_count": 8,
   "metadata": {},
   "outputs": [
    {
     "name": "stdout",
     "output_type": "stream",
     "text": [
      "Porcentaje de aprobados: 50.0%\n"
     ]
    }
   ],
   "source": [
    "def evalua(O, X):\n",
    "    res = sigmoide(X.dot(O))\n",
    "    passed = len(np.where(res >= 0.5))\n",
    "    failed = len(np.where(res < 0.5))\n",
    "    total = passed + failed\n",
    "    return passed / total\n",
    "porcentaje = evalua(theta_opt, XEx)\n",
    "print(\"Porcentaje de aprobados: \" + str(porcentaje*100) + \"%\")"
   ]
  },
  {
   "cell_type": "markdown",
   "metadata": {},
   "source": [
    "# PARTE 2: Regresión Logística Regularizada"
   ]
  },
  {
   "cell_type": "markdown",
   "metadata": {},
   "source": [
    "# -Visualizar datos"
   ]
  },
  {
   "cell_type": "code",
   "execution_count": 9,
   "metadata": {},
   "outputs": [
    {
     "data": {
      "image/png": "[encoded data removed]",
      "text/plain": [
       "<Figure size 432x288 with 1 Axes>"
      ]
     },
     "metadata": {
      "needs_background": "light"
     },
     "output_type": "display_data"
    }
   ],
   "source": [
    "values2 = carga_csv(\"ex2data2.csv\")\n",
    "valuesChips = values2[:, :-1]\n",
    "flags = values2[:, -1]\n",
    "\n",
    "def pinta_grafica2():\n",
    "    plt.figure()\n",
    "    indexPassed = np.where(flags == 1)\n",
    "    plt.scatter(valuesChips[indexPassed, 0], valuesChips[indexPassed, 1], marker = '+', c = 'k')\n",
    "\n",
    "    indexNotPassed = np.where(flags == 0)\n",
    "    plt.scatter(valuesChips[indexNotPassed, 0], valuesChips[indexNotPassed, 1], s = 20 , marker = 'o', c = 'y')\n",
    "\n",
    "    plt.legend(['y = 1', 'y = 0'])\n",
    "    plt.xlabel('Microchip test 1')\n",
    "    plt.ylabel('Microchip test 1')\n",
    "    \n",
    "pinta_grafica2()"
   ]
  },
  {
   "cell_type": "markdown",
   "metadata": {},
   "source": [
    "# -Mapeo de los atributos"
   ]
  },
  {
   "cell_type": "code",
   "execution_count": 31,
   "metadata": {},
   "outputs": [],
   "source": [
    "m = valuesChips.shape[0]\n",
    "poly = PolynomialFeatures(6)\n",
    "XFitted = poly.fit_transform(valuesChips)\n",
    "n = XFitted.shape[1]\n",
    "\n",
    "theta2 = np.zeros((1, n)) #1 fila, 2 columnas\n",
    "lam = 1 #lambda"
   ]
  },
  {
   "cell_type": "markdown",
   "metadata": {},
   "source": [
    "# -Calculo de la función de coste y su gradiente"
   ]
  },
  {
   "cell_type": "code",
   "execution_count": 51,
   "metadata": {},
   "outputs": [
    {
     "name": "stdout",
     "output_type": "stream",
     "text": [
      "Coste: 0.6931471805599453\n"
     ]
    },
    {
     "ename": "ValueError",
     "evalue": "all the input arrays must have same number of dimensions",
     "output_type": "error",
     "traceback": [
      "\u001b[1;31m---------------------------------------------------------------------------\u001b[0m",
      "\u001b[1;31mValueError\u001b[0m                                Traceback (most recent call last)",
      "\u001b[1;32m<ipython-input-51-45d052deee81>\u001b[0m in \u001b[0;36m<module>\u001b[1;34m\u001b[0m\n\u001b[0;32m     12\u001b[0m  \u001b[0msol\u001b[0m \u001b[1;33m=\u001b[0m \u001b[0mgrad\u001b[0m \u001b[1;33m+\u001b[0m \u001b[1;33m(\u001b[0m\u001b[0mlam\u001b[0m\u001b[1;33m/\u001b[0m\u001b[0mm\u001b[0m\u001b[1;33m)\u001b[0m\u001b[1;33m*\u001b[0m\u001b[0minitial_theta\u001b[0m\u001b[1;33m\u001b[0m\u001b[1;33m\u001b[0m\u001b[0m\n\u001b[0;32m     13\u001b[0m  \u001b[1;32mreturn\u001b[0m \u001b[0mgrad\u001b[0m\u001b[1;33m\u001b[0m\u001b[1;33m\u001b[0m\u001b[0m\n\u001b[1;32m---> 14\u001b[1;33m \u001b[0mgradiente2\u001b[0m\u001b[1;33m(\u001b[0m\u001b[0mtheta2\u001b[0m\u001b[1;33m,\u001b[0m \u001b[0mXFitted\u001b[0m\u001b[1;33m,\u001b[0m \u001b[0mflags\u001b[0m\u001b[1;33m,\u001b[0m \u001b[0mlam\u001b[0m\u001b[1;33m)\u001b[0m\u001b[1;33m\u001b[0m\u001b[1;33m\u001b[0m\u001b[0m\n\u001b[0m",
      "\u001b[1;32m<ipython-input-51-45d052deee81>\u001b[0m in \u001b[0;36mgradiente2\u001b[1;34m(O, X, Y, lam)\u001b[0m\n\u001b[0;32m      8\u001b[0m \u001b[1;32mdef\u001b[0m \u001b[0mgradiente2\u001b[0m\u001b[1;33m(\u001b[0m\u001b[0mO\u001b[0m\u001b[1;33m,\u001b[0m \u001b[0mX\u001b[0m\u001b[1;33m,\u001b[0m \u001b[0mY\u001b[0m\u001b[1;33m,\u001b[0m \u001b[0mlam\u001b[0m\u001b[1;33m)\u001b[0m\u001b[1;33m:\u001b[0m\u001b[1;33m\u001b[0m\u001b[1;33m\u001b[0m\u001b[0m\n\u001b[0;32m      9\u001b[0m  \u001b[1;31m#newO = np.delete(O, O[0], 1)\u001b[0m\u001b[1;33m\u001b[0m\u001b[1;33m\u001b[0m\u001b[1;33m\u001b[0m\u001b[0m\n\u001b[1;32m---> 10\u001b[1;33m  \u001b[0minitial_theta\u001b[0m \u001b[1;33m=\u001b[0m \u001b[0mnp\u001b[0m\u001b[1;33m.\u001b[0m\u001b[0mhstack\u001b[0m\u001b[1;33m(\u001b[0m\u001b[1;33m[\u001b[0m\u001b[0mnp\u001b[0m\u001b[1;33m.\u001b[0m\u001b[0mzeros\u001b[0m\u001b[1;33m(\u001b[0m\u001b[1;33m[\u001b[0m\u001b[1;36m1\u001b[0m\u001b[1;33m,\u001b[0m \u001b[1;33m]\u001b[0m\u001b[1;33m)\u001b[0m\u001b[1;33m,\u001b[0m \u001b[0mO\u001b[0m\u001b[1;33m[\u001b[0m\u001b[1;36m1\u001b[0m\u001b[1;33m:\u001b[0m\u001b[1;33m,\u001b[0m \u001b[1;33m]\u001b[0m\u001b[1;33m]\u001b[0m\u001b[1;33m)\u001b[0m\u001b[1;33m\u001b[0m\u001b[1;33m\u001b[0m\u001b[0m\n\u001b[0m\u001b[0;32m     11\u001b[0m  \u001b[0mgrad\u001b[0m \u001b[1;33m=\u001b[0m \u001b[1;33m(\u001b[0m\u001b[0mX\u001b[0m\u001b[1;33m.\u001b[0m\u001b[0mT\u001b[0m\u001b[1;33m.\u001b[0m\u001b[0mdot\u001b[0m\u001b[1;33m(\u001b[0m\u001b[1;33m(\u001b[0m\u001b[0msigmoide\u001b[0m\u001b[1;33m(\u001b[0m\u001b[0mX\u001b[0m\u001b[1;33m.\u001b[0m\u001b[0mdot\u001b[0m\u001b[1;33m(\u001b[0m\u001b[0mO\u001b[0m\u001b[1;33m.\u001b[0m\u001b[0mT\u001b[0m\u001b[1;33m)\u001b[0m\u001b[1;33m)\u001b[0m\u001b[1;33m)\u001b[0m \u001b[1;33m-\u001b[0m \u001b[0mY\u001b[0m\u001b[1;33m)\u001b[0m\u001b[1;33m)\u001b[0m\u001b[1;33m/\u001b[0m\u001b[0mm\u001b[0m\u001b[1;33m\u001b[0m\u001b[1;33m\u001b[0m\u001b[0m\n\u001b[0;32m     12\u001b[0m  \u001b[0msol\u001b[0m \u001b[1;33m=\u001b[0m \u001b[0mgrad\u001b[0m \u001b[1;33m+\u001b[0m \u001b[1;33m(\u001b[0m\u001b[0mlam\u001b[0m\u001b[1;33m/\u001b[0m\u001b[0mm\u001b[0m\u001b[1;33m)\u001b[0m\u001b[1;33m*\u001b[0m\u001b[0minitial_theta\u001b[0m\u001b[1;33m\u001b[0m\u001b[1;33m\u001b[0m\u001b[0m\n",
      "\u001b[1;32m~\\Anaconda3\\lib\\site-packages\\numpy\\core\\shape_base.py\u001b[0m in \u001b[0;36mhstack\u001b[1;34m(tup)\u001b[0m\n\u001b[0;32m    336\u001b[0m     \u001b[1;31m# As a special case, dimension 0 of 1-dimensional arrays is \"horizontal\"\u001b[0m\u001b[1;33m\u001b[0m\u001b[1;33m\u001b[0m\u001b[1;33m\u001b[0m\u001b[0m\n\u001b[0;32m    337\u001b[0m     \u001b[1;32mif\u001b[0m \u001b[0marrs\u001b[0m \u001b[1;32mand\u001b[0m \u001b[0marrs\u001b[0m\u001b[1;33m[\u001b[0m\u001b[1;36m0\u001b[0m\u001b[1;33m]\u001b[0m\u001b[1;33m.\u001b[0m\u001b[0mndim\u001b[0m \u001b[1;33m==\u001b[0m \u001b[1;36m1\u001b[0m\u001b[1;33m:\u001b[0m\u001b[1;33m\u001b[0m\u001b[1;33m\u001b[0m\u001b[0m\n\u001b[1;32m--> 338\u001b[1;33m         \u001b[1;32mreturn\u001b[0m \u001b[0m_nx\u001b[0m\u001b[1;33m.\u001b[0m\u001b[0mconcatenate\u001b[0m\u001b[1;33m(\u001b[0m\u001b[0marrs\u001b[0m\u001b[1;33m,\u001b[0m \u001b[1;36m0\u001b[0m\u001b[1;33m)\u001b[0m\u001b[1;33m\u001b[0m\u001b[1;33m\u001b[0m\u001b[0m\n\u001b[0m\u001b[0;32m    339\u001b[0m     \u001b[1;32melse\u001b[0m\u001b[1;33m:\u001b[0m\u001b[1;33m\u001b[0m\u001b[1;33m\u001b[0m\u001b[0m\n\u001b[0;32m    340\u001b[0m         \u001b[1;32mreturn\u001b[0m \u001b[0m_nx\u001b[0m\u001b[1;33m.\u001b[0m\u001b[0mconcatenate\u001b[0m\u001b[1;33m(\u001b[0m\u001b[0marrs\u001b[0m\u001b[1;33m,\u001b[0m \u001b[1;36m1\u001b[0m\u001b[1;33m)\u001b[0m\u001b[1;33m\u001b[0m\u001b[1;33m\u001b[0m\u001b[0m\n",
      "\u001b[1;31mValueError\u001b[0m: all the input arrays must have same number of dimensions"
     ]
    }
   ],
   "source": [
    "   #FUNCIÓN DE COSTE\n",
    "def coste2(O, X, Y, lam):\n",
    "    cos = coste(O, X, Y) + (lam/2*m)*(theta**2)\n",
    "    return cos\n",
    "\n",
    "print(\"Coste: \" + str(coste2(theta, XFitted, flags, lam)[0, 0]))\n",
    "\n",
    "def gradiente2(O, X, Y, lam):\n",
    "    #newO = np.delete(O, O[0], 1)\n",
    "    initial_theta = np.hstack([np.zeros(), O[1:,]])\n",
    "    grad = (X.T.dot((sigmoide(X.dot(O.T))) - Y))/m\n",
    "    sol = grad + (lam/m)*initial_theta\n",
    "    return grad\n",
    "gradiente2(theta2, XFitted, flags, lam)"
   ]
  },
  {
   "cell_type": "markdown",
   "metadata": {},
   "source": [
    "# Cálculo del valor óptimo"
   ]
  },
  {
   "cell_type": "code",
   "execution_count": 41,
   "metadata": {},
   "outputs": [
    {
     "ename": "ValueError",
     "evalue": "tnc: invalid return value from minimized function.",
     "output_type": "error",
     "traceback": [
      "\u001b[1;31m---------------------------------------------------------------------------\u001b[0m",
      "\u001b[1;31mValueError\u001b[0m                                Traceback (most recent call last)",
      "\u001b[1;32m<ipython-input-41-56efc7203b3b>\u001b[0m in \u001b[0;36m<module>\u001b[1;34m\u001b[0m\n\u001b[1;32m----> 1\u001b[1;33m \u001b[0mresult2\u001b[0m \u001b[1;33m=\u001b[0m \u001b[0mopt\u001b[0m\u001b[1;33m.\u001b[0m\u001b[0mfmin_tnc\u001b[0m\u001b[1;33m(\u001b[0m\u001b[0mfunc\u001b[0m \u001b[1;33m=\u001b[0m \u001b[0mcoste2\u001b[0m\u001b[1;33m,\u001b[0m \u001b[0mx0\u001b[0m \u001b[1;33m=\u001b[0m \u001b[0mtheta2\u001b[0m\u001b[1;33m,\u001b[0m \u001b[0mfprime\u001b[0m\u001b[1;33m=\u001b[0m\u001b[0mgradiente2\u001b[0m\u001b[1;33m,\u001b[0m \u001b[0margs\u001b[0m\u001b[1;33m=\u001b[0m\u001b[1;33m(\u001b[0m\u001b[0mXFitted\u001b[0m\u001b[1;33m,\u001b[0m \u001b[0mflags\u001b[0m\u001b[1;33m,\u001b[0m \u001b[0mlam\u001b[0m\u001b[1;33m)\u001b[0m\u001b[1;33m)\u001b[0m\u001b[1;33m\u001b[0m\u001b[1;33m\u001b[0m\u001b[0m\n\u001b[0m\u001b[0;32m      2\u001b[0m \u001b[1;31m#theta_opt2 = result2[0]\u001b[0m\u001b[1;33m\u001b[0m\u001b[1;33m\u001b[0m\u001b[1;33m\u001b[0m\u001b[0m\n",
      "\u001b[1;32m~\\Anaconda3\\lib\\site-packages\\scipy\\optimize\\tnc.py\u001b[0m in \u001b[0;36mfmin_tnc\u001b[1;34m(func, x0, fprime, args, approx_grad, bounds, epsilon, scale, offset, messages, maxCGit, maxfun, eta, stepmx, accuracy, fmin, ftol, xtol, pgtol, rescale, disp, callback)\u001b[0m\n\u001b[0;32m    273\u001b[0m             'disp': False}\n\u001b[0;32m    274\u001b[0m \u001b[1;33m\u001b[0m\u001b[0m\n\u001b[1;32m--> 275\u001b[1;33m     \u001b[0mres\u001b[0m \u001b[1;33m=\u001b[0m \u001b[0m_minimize_tnc\u001b[0m\u001b[1;33m(\u001b[0m\u001b[0mfun\u001b[0m\u001b[1;33m,\u001b[0m \u001b[0mx0\u001b[0m\u001b[1;33m,\u001b[0m \u001b[0margs\u001b[0m\u001b[1;33m,\u001b[0m \u001b[0mjac\u001b[0m\u001b[1;33m,\u001b[0m \u001b[0mbounds\u001b[0m\u001b[1;33m,\u001b[0m \u001b[0mcallback\u001b[0m\u001b[1;33m=\u001b[0m\u001b[0mcallback\u001b[0m\u001b[1;33m,\u001b[0m \u001b[1;33m**\u001b[0m\u001b[0mopts\u001b[0m\u001b[1;33m)\u001b[0m\u001b[1;33m\u001b[0m\u001b[1;33m\u001b[0m\u001b[0m\n\u001b[0m\u001b[0;32m    276\u001b[0m \u001b[1;33m\u001b[0m\u001b[0m\n\u001b[0;32m    277\u001b[0m     \u001b[1;32mreturn\u001b[0m \u001b[0mres\u001b[0m\u001b[1;33m[\u001b[0m\u001b[1;34m'x'\u001b[0m\u001b[1;33m]\u001b[0m\u001b[1;33m,\u001b[0m \u001b[0mres\u001b[0m\u001b[1;33m[\u001b[0m\u001b[1;34m'nfev'\u001b[0m\u001b[1;33m]\u001b[0m\u001b[1;33m,\u001b[0m \u001b[0mres\u001b[0m\u001b[1;33m[\u001b[0m\u001b[1;34m'status'\u001b[0m\u001b[1;33m]\u001b[0m\u001b[1;33m\u001b[0m\u001b[1;33m\u001b[0m\u001b[0m\n",
      "\u001b[1;32m~\\Anaconda3\\lib\\site-packages\\scipy\\optimize\\tnc.py\u001b[0m in \u001b[0;36m_minimize_tnc\u001b[1;34m(fun, x0, args, jac, bounds, eps, scale, offset, mesg_num, maxCGit, maxiter, eta, stepmx, accuracy, minfev, ftol, xtol, gtol, rescale, disp, callback, **unknown_options)\u001b[0m\n\u001b[0;32m    407\u001b[0m                                         \u001b[0moffset\u001b[0m\u001b[1;33m,\u001b[0m \u001b[0mmessages\u001b[0m\u001b[1;33m,\u001b[0m \u001b[0mmaxCGit\u001b[0m\u001b[1;33m,\u001b[0m \u001b[0mmaxfun\u001b[0m\u001b[1;33m,\u001b[0m\u001b[1;33m\u001b[0m\u001b[1;33m\u001b[0m\u001b[0m\n\u001b[0;32m    408\u001b[0m                                         \u001b[0meta\u001b[0m\u001b[1;33m,\u001b[0m \u001b[0mstepmx\u001b[0m\u001b[1;33m,\u001b[0m \u001b[0maccuracy\u001b[0m\u001b[1;33m,\u001b[0m \u001b[0mfmin\u001b[0m\u001b[1;33m,\u001b[0m \u001b[0mftol\u001b[0m\u001b[1;33m,\u001b[0m\u001b[1;33m\u001b[0m\u001b[1;33m\u001b[0m\u001b[0m\n\u001b[1;32m--> 409\u001b[1;33m                                         xtol, pgtol, rescale, callback)\n\u001b[0m\u001b[0;32m    410\u001b[0m \u001b[1;33m\u001b[0m\u001b[0m\n\u001b[0;32m    411\u001b[0m     \u001b[0mfunv\u001b[0m\u001b[1;33m,\u001b[0m \u001b[0mjacv\u001b[0m \u001b[1;33m=\u001b[0m \u001b[0mfunc_and_grad\u001b[0m\u001b[1;33m(\u001b[0m\u001b[0mx\u001b[0m\u001b[1;33m)\u001b[0m\u001b[1;33m\u001b[0m\u001b[1;33m\u001b[0m\u001b[0m\n",
      "\u001b[1;31mValueError\u001b[0m: tnc: invalid return value from minimized function."
     ]
    }
   ],
   "source": [
    "result2 = opt.fmin_tnc(func = coste2, x0 = theta2, fprime=gradiente2, args=(XFitted, flags, lam))\n",
    "#theta_opt2 = result2[0]"
   ]
  }
 ],
 "metadata": {
  "kernelspec": {
   "display_name": "Python 3",
   "language": "python",
   "name": "python3"
  },
  "language_info": {
   "codemirror_mode": {
    "name": "ipython",
    "version": 3
   },
   "file_extension": ".py",
   "mimetype": "text/x-python",
   "name": "python",
   "nbconvert_exporter": "python",
   "pygments_lexer": "ipython3",
   "version": "3.7.3"
  }
 },
 "nbformat": 4,
 "nbformat_minor": 2
}
