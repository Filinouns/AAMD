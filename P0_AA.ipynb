{
 "cells": [
  {
   "cell_type": "code",
   "execution_count": null,
   "metadata": {},
   "outputs": [],
   "source": []
  },
  {
   "cell_type": "markdown",
   "metadata": {},
   "source": [
    "# Practica 0: python\n",
    "\n",
    "En esta practica implementaremos un algortimo de integracion numerica basado en el metodo de Monte Carlo.\n",
    "\n",
    "\n",
    "Para ello necesitaremos de una funcion para la cual se calculara el area por debajo de la curva en base al metodo previamente mencionado.\n",
    "\n",
    "# IMPORTS"
   ]
  },
  {
   "cell_type": "code",
   "execution_count": 2,
   "metadata": {},
   "outputs": [],
   "source": [
    "import time\n",
    "import math as mt\n",
    "import numpy as np\n",
    "import matplotlib.pyplot as plt\n",
    "import random"
   ]
  },
  {
   "cell_type": "code",
   "execution_count": 23,
   "metadata": {},
   "outputs": [],
   "source": [
    "#Funcion que usaremos durante toda la practica.\n",
    "def f1(x):\n",
    "    return mt.sin(x)\n",
    "\n",
    "#Otras opciones:\n",
    "def f2(x):\n",
    "    return -(x**(2)-2*x)"
   ]
  },
  {
   "cell_type": "markdown",
   "metadata": {},
   "source": [
    "# Calculo de valores para el metodo monte carlo\n",
    "\n",
    "Para implementar este algoritmo necesitaremos una serie de parametros para resolverlo:\n",
    "    a -> Limite izq de la funcion\n",
    "    b -> Limite der de la funcion\n",
    "    M -> Punto mas alto de la funcion en el intervalo (a, b)"
   ]
  },
  {
   "cell_type": "code",
   "execution_count": 27,
   "metadata": {},
   "outputs": [
    {
     "data": {
      "text/plain": [
       "<matplotlib.legend.Legend at 0x10e4e90>"
      ]
     },
     "execution_count": 27,
     "metadata": {},
     "output_type": "execute_result"
    },
    {
     "data": {
      "image/png": "[encoded data removed]",
      "text/plain": [
       "<Figure size 432x288 with 1 Axes>"
      ]
     },
     "metadata": {
      "needs_background": "light"
     },
     "output_type": "display_data"
    }
   ],
   "source": [
    "a = 0\n",
    "b = 2\n",
    "s = np.linspace(a, b, 10000)\n",
    "plt.ylim(-0.02, NoLoopMaxY(f2)+0.02)\n",
    "\n",
    "plt.plot(s, f2(s))\n",
    "plt.legend(['Function2'])\n"
   ]
  },
  {
   "cell_type": "markdown",
   "metadata": {},
   "source": [
    "Ahora calcularemos el punto mas alto de la funcion en ese intervalo.\n",
    "\n",
    "Se usaran dos metodos diferentes uno con bucles y otro con las herramientas de las librerias."
   ]
  },
  {
   "cell_type": "code",
   "execution_count": 29,
   "metadata": {},
   "outputs": [
    {
     "data": {
      "text/plain": [
       "0.9999999899979997"
      ]
     },
     "execution_count": 29,
     "metadata": {},
     "output_type": "execute_result"
    }
   ],
   "source": [
    "def LoopMaxY(func):\n",
    "    max = 0\n",
    "    \n",
    "    for i in s:\n",
    "        if (max < func(i)):\n",
    "            max = func(i)\n",
    "            \n",
    "    return max\n",
    "\n",
    "LoopMaxY(f2)"
   ]
  },
  {
   "cell_type": "code",
   "execution_count": 30,
   "metadata": {},
   "outputs": [
    {
     "data": {
      "text/plain": [
       "0.9999999899979997"
      ]
     },
     "execution_count": 30,
     "metadata": {},
     "output_type": "execute_result"
    }
   ],
   "source": [
    "def NoLoopMaxY(func):\n",
    "    funcMax = np.amax(func(s))\n",
    "    return funcMax\n",
    "\n",
    "NoLoopMaxY(f2)"
   ]
  },
  {
   "cell_type": "code",
   "execution_count": 33,
   "metadata": {},
   "outputs": [
    {
     "data": {
      "text/plain": [
       "<matplotlib.legend.Legend at 0x333cb10>"
      ]
     },
     "execution_count": 33,
     "metadata": {},
     "output_type": "execute_result"
    },
    {
     "data": {
      "image/png": "[encoded data removed]",
      "text/plain": [
       "<Figure size 432x288 with 1 Axes>"
      ]
     },
     "metadata": {
      "needs_background": "light"
     },
     "output_type": "display_data"
    }
   ],
   "source": [
    "plt.plot(s, f2(s))\n",
    "\n",
    "#Representamos el maximo Y de la funcion suponiendo que es simetrica\n",
    "plt.plot((a+b)/2, NoLoopMaxY(f2), 'gD')\n",
    "\n",
    "plt.legend(['Curva', 'Maximo'])"
   ]
  },
  {
   "cell_type": "markdown",
   "metadata": {},
   "source": [
    "## Generacion y calculo de puntos aleatorios\n",
    "\n",
    "A continuacion tendremos que generar un metodo que genere una cantidad n de puntos aleatorios en el intervalo de X(a, b) y en el intervalo de Y(0, MaxY(f2))"
   ]
  },
  {
   "cell_type": "code",
   "execution_count": 34,
   "metadata": {},
   "outputs": [
    {
     "data": {
      "text/plain": [
       "(array([0.18044161, 1.81746219, 0.15652908, ..., 1.74828924, 0.44773677,\n",
       "        0.98616731]),\n",
       " array([0.5035089 , 0.91098371, 0.05501448, ..., 0.30371944, 0.75383124,\n",
       "        0.71097252]))"
      ]
     },
     "execution_count": 34,
     "metadata": {},
     "output_type": "execute_result"
    }
   ],
   "source": [
    "def puntos(maxY, a, b, n):\n",
    "    X = np.random.uniform(a, b, n)\n",
    "    Y = np.random.uniform(0, maxY, n)\n",
    "    return (X, Y)\n",
    "\n",
    "puntos(NoLoopMaxY(f2), 0, 2, 10000)"
   ]
  },
  {
   "cell_type": "markdown",
   "metadata": {},
   "source": [
    "Ahora necesitamos 2 metodos para medir que cantidad de puntos se han quedado por debajo de la curva de la funcion:\n",
    "\n",
    "- Con Bucles"
   ]
  },
  {
   "cell_type": "code",
   "execution_count": 36,
   "metadata": {},
   "outputs": [
    {
     "ename": "TypeError",
     "evalue": "'function' object is not subscriptable",
     "output_type": "error",
     "traceback": [
      "\u001b[1;31m---------------------------------------------------------------------------\u001b[0m",
      "\u001b[1;31mTypeError\u001b[0m                                 Traceback (most recent call last)",
      "\u001b[1;32m<ipython-input-36-88652bdcea2e>\u001b[0m in \u001b[0;36m<module>\u001b[1;34m\u001b[0m\n\u001b[0;32m     12\u001b[0m     \u001b[1;32mreturn\u001b[0m \u001b[0mres\u001b[0m\u001b[1;33m\u001b[0m\u001b[1;33m\u001b[0m\u001b[0m\n\u001b[0;32m     13\u001b[0m \u001b[1;33m\u001b[0m\u001b[0m\n\u001b[1;32m---> 14\u001b[1;33m \u001b[0mNPointsLoop\u001b[0m\u001b[1;33m(\u001b[0m\u001b[0mf2\u001b[0m\u001b[1;33m,\u001b[0m \u001b[1;36m0\u001b[0m\u001b[1;33m,\u001b[0m \u001b[1;36m2\u001b[0m\u001b[1;33m,\u001b[0m \u001b[1;36m10000\u001b[0m\u001b[1;33m)\u001b[0m\u001b[1;33m\u001b[0m\u001b[1;33m\u001b[0m\u001b[0m\n\u001b[0m",
      "\u001b[1;32m<ipython-input-36-88652bdcea2e>\u001b[0m in \u001b[0;36mNPointsLoop\u001b[1;34m(fun, a, b, n)\u001b[0m\n\u001b[0;32m      5\u001b[0m     \u001b[0mNpDebajo\u001b[0m \u001b[1;33m=\u001b[0m \u001b[1;36m0\u001b[0m\u001b[1;33m\u001b[0m\u001b[1;33m\u001b[0m\u001b[0m\n\u001b[0;32m      6\u001b[0m     \u001b[1;32mfor\u001b[0m \u001b[0mi\u001b[0m \u001b[1;32min\u001b[0m \u001b[0mrange\u001b[0m\u001b[1;33m(\u001b[0m\u001b[0mn\u001b[0m\u001b[1;33m)\u001b[0m\u001b[1;33m:\u001b[0m\u001b[1;33m\u001b[0m\u001b[1;33m\u001b[0m\u001b[0m\n\u001b[1;32m----> 7\u001b[1;33m         \u001b[1;32mif\u001b[0m\u001b[1;33m(\u001b[0m\u001b[0mpuntos\u001b[0m\u001b[1;33m[\u001b[0m\u001b[1;36m1\u001b[0m\u001b[1;33m]\u001b[0m\u001b[1;33m[\u001b[0m\u001b[0mi\u001b[0m\u001b[1;33m]\u001b[0m \u001b[1;33m<\u001b[0m \u001b[0mf2\u001b[0m\u001b[1;33m(\u001b[0m\u001b[0mpuntos\u001b[0m\u001b[1;33m[\u001b[0m\u001b[1;36m0\u001b[0m\u001b[1;33m]\u001b[0m\u001b[1;33m[\u001b[0m\u001b[0mi\u001b[0m\u001b[1;33m]\u001b[0m\u001b[1;33m)\u001b[0m\u001b[1;33m)\u001b[0m\u001b[1;33m:\u001b[0m\u001b[1;33m\u001b[0m\u001b[1;33m\u001b[0m\u001b[0m\n\u001b[0m\u001b[0;32m      8\u001b[0m             \u001b[0mNpDebajo\u001b[0m\u001b[1;33m+=\u001b[0m\u001b[1;36m1\u001b[0m\u001b[1;33m\u001b[0m\u001b[1;33m\u001b[0m\u001b[0m\n\u001b[0;32m      9\u001b[0m \u001b[1;33m\u001b[0m\u001b[0m\n",
      "\u001b[1;31mTypeError\u001b[0m: 'function' object is not subscriptable"
     ]
    }
   ],
   "source": [
    "def NPointsLoop(fun, a, b, n):\n",
    "    M = NoLoopMaxY(fun)\n",
    "    puntos_ = puntos(M, a, b, n)\n",
    "    \n",
    "    NpDebajo = 0\n",
    "    for i in range(n):\n",
    "        if(puntos[1][i] < fun(puntos[0][i])):\n",
    "            NpDebajo+=1\n",
    "            \n",
    "    res = (b-a)*M*(NpDebajo/n)\n",
    "    print(NpDebajo)\n",
    "    return res\n",
    "\n",
    "NPointsLoop(f2, 0, 2, 10000)"
   ]
  },
  {
   "cell_type": "code",
   "execution_count": null,
   "metadata": {},
   "outputs": [],
   "source": []
  }
 ],
 "metadata": {
  "kernelspec": {
   "display_name": "Python 3",
   "language": "python",
   "name": "python3"
  },
  "language_info": {
   "codemirror_mode": {
    "name": "ipython",
    "version": 3
   },
   "file_extension": ".py",
   "mimetype": "text/x-python",
   "name": "python",
   "nbconvert_exporter": "python",
   "pygments_lexer": "ipython3",
   "version": "3.7.3"
  }
 },
 "nbformat": 4,
 "nbformat_minor": 2
}
