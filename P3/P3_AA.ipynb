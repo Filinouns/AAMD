{
 "cells": [
  {
   "cell_type": "markdown",
   "metadata": {},
   "source": [
    "#                                   ----------- Practica 3 --------------\n",
    "##  Regresión logística multi-clase y redes neuronales\n"
   ]
  },
  {
   "cell_type": "markdown",
   "metadata": {},
   "source": [
    "El objetivo de esta primera parte de la práctica es aplicar regresión logística multi-clase al reconocimiento de imágenes que representan números escritos a mano.\n",
    "\n",
    "Alumnos: Andrés Puente y Francisco Lopez"
   ]
  },
  {
   "cell_type": "markdown",
   "metadata": {},
   "source": [
    "## - Visualizacion de los datos"
   ]
  },
  {
   "cell_type": "code",
   "execution_count": 1,
   "metadata": {},
   "outputs": [
    {
     "data": {
      "text/plain": [
       "(-0.5, 199.5, 19.5, -0.5)"
      ]
     },
     "execution_count": 1,
     "metadata": {},
     "output_type": "execute_result"
    }
   ],
   "source": [
    "import numpy as np\n",
    "import matplotlib.pyplot as plt\n",
    "from scipy . io import loadmat\n",
    "import scipy.optimize as opt\n",
    "\n",
    "data = loadmat('ex3data1.mat')\n",
    "# se pueden consultar las claves con data.keys() 5 \n",
    "y = data ['y']\n",
    "X = data ['X']\n",
    "# almacena los datos leídos en X, y\n",
    "\n",
    "m = X.shape[0]\n",
    "n = X.shape[1]\n",
    "\n",
    "XStack = np.hstack([np.ones((len(X), 1)), X])\n",
    "y = np.ravel(y)\n",
    "\n",
    "#print(XStack.shape)\n",
    "\n",
    "# Selecciona aleatoriamente 10 ejemplos y los pinta\n",
    "sample = np.random.choice(m , 10) \n",
    "plt.imshow(X[sample, :].reshape(-1, 20).T)\n",
    "plt.axis('off')\n"
   ]
  },
  {
   "cell_type": "markdown",
   "metadata": {},
   "source": [
    "## - Vectorizacion de la regresion logistica"
   ]
  },
  {
   "cell_type": "code",
   "execution_count": 22,
   "metadata": {},
   "outputs": [
    {
     "data": {
      "text/plain": [
       "(-0.5, 199.5, 19.5, -0.5)"
      ]
     },
     "execution_count": 22,
     "metadata": {},
     "output_type": "execute_result"
    },
    {
     "data": {
      "image/png": "[encoded data removed]",
      "text/plain": [
       "<Figure size 432x288 with 1 Axes>"
      ]
     },
     "metadata": {
      "needs_background": "light"
     },
     "output_type": "display_data"
    }
   ],
   "source": [
    "def sigmoide(value):\n",
    "    s = 1/(1+np.exp(-value))\n",
    "    return s\n",
    "\n",
    "def gradiente(O, X, Y, lamb):\n",
    "    H = sigmoide(np.dot(X, O))\n",
    "    return (np.dot((1.0/len(X)), X.T).dot(H-Y))+(lamb/len(X))*O\n",
    "\n",
    "#Version sin regularizar\n",
    "def cost(O, X, Y):\n",
    "    H = sigmoide(np.dot(X, O))\n",
    "    op1 = float(1)/len(X)\n",
    "    op2 = (np.dot(np.log(H).T, -Y))\n",
    "    op3 = 1-Y\n",
    "    op4 = (np.log(1-H)).T\n",
    "    return op1 * (op2 - np.dot(op3, op4))\n",
    "\n",
    "#Version regularizada\n",
    "def cost2(O, X, Y, lamb):\n",
    "    H = sigmoide(np.dot(X, O))\n",
    "    op1 = float(1)/len(X)\n",
    "    op2 = (np.dot(np.log(H).T, -Y))\n",
    "    op3 = 1-Y\n",
    "    op4 = (np.log(1-H)).T\n",
    "    op5 = (lamb/(2*len(X)))*np.sum(O**2)\n",
    "    return op1 * (op2 - np.dot(op3, op4)) + op5\n",
    "\n",
    "# Selecciona  aleatoriamente  10  ejemplos  y  los  pinta\n",
    "sample = np.random.choice(X.shape[0], 10)\n",
    "plt.imshow(X[sample, :].reshape(-1, 20).T)\n",
    "plt.axis('off')\n"
   ]
  },
  {
   "cell_type": "markdown",
   "metadata": {},
   "source": [
    "## - Clasificacion de 1 vs all"
   ]
  },
  {
   "cell_type": "code",
   "execution_count": 3,
   "metadata": {},
   "outputs": [
    {
     "name": "stdout",
     "output_type": "stream",
     "text": [
      "La probabilidad de acierto del programa es:  96.5 %\n"
     ]
    }
   ],
   "source": [
    "\"\"\" \n",
    "oneVsAll entrena varios clasificadores por regresión \n",
    "logística con término de regularización ’reg ’ y devuelve \n",
    "el resultado en una matriz , donde 5 la fila i−ésima corresponde \n",
    "al clasificador de la etiqueta i−ésima \n",
    "\"\"\" \n",
    "def oneVsAll(X, y, num_etiquetas , reg):\n",
    "    theta = np.zeros([num_etiquetas, X.shape[1]])\n",
    "    for i in range (num_etiquetas):\n",
    "        if(i == 0):\n",
    "            iaux = 10\n",
    "        else:\n",
    "            iaux = i\n",
    "        a = (y == iaux)*1\n",
    "        theta[i] = opt.fmin_tnc(cost2, theta[i], gradiente,args = (X, a, reg))[0]\n",
    "    return theta\n",
    "\n",
    "theta_opt = oneVsAll(XStack, y, 10, 0.1)\n",
    "\n",
    "resultado = sigmoide(XStack.dot(np.transpose(theta_opt)))\n",
    "\n",
    "#Este será un array de (1, 5000) con las posibilidades de que un numero haya sido predecido correctamente\n",
    "prediccion = resultado.argmax(axis = 1)\n",
    "prediccion[prediccion == 0] = 10\n",
    "\n",
    "Z = (prediccion == y)\n",
    "probabilidad = sum(Z)/len(y)\n",
    "\n",
    "print(\"La probabilidad de acierto del programa es: \", probabilidad*100, \"%\")"
   ]
  },
  {
   "cell_type": "markdown",
   "metadata": {},
   "source": [
    "## 2. Redes Neuronales"
   ]
  },
  {
   "cell_type": "code",
   "execution_count": 4,
   "metadata": {},
   "outputs": [
    {
     "name": "stdout",
     "output_type": "stream",
     "text": [
      "La probabilidad de acierto del programa es:  97.52 %\n"
     ]
    }
   ],
   "source": [
    "data = loadmat('ex3data1.mat')\n",
    "Y = data['y']  # Representa el valor real de cada ejemplo de entrenamiento de X (y para cada X)\n",
    "X = data['X']  # Cada fila de X representa una escala de grises de 20x20 desplegada linearmente (400 pixeles)\n",
    "Y = np.ravel(Y)\n",
    "\n",
    "X_unos = np.hstack([np.ones((len(X), 1)),X])\n",
    "\n",
    "weights = loadmat('ex3weights.mat')\n",
    "theta1, theta2 = weights['Theta1'], weights ['Theta2']\n",
    "\n",
    "\n",
    "#Propagación hacia delante\n",
    "aux = sigmoide(X_unos.dot(theta1.T))\n",
    "aux = np.hstack([np.ones((len(aux),1)), aux])\n",
    "#El resultado de utilizar la red neuronal será una matriz de 5000 x 10, con las probabilidades de que cada caso sea un numero.\n",
    "results = sigmoide(aux.dot(theta2.T))\n",
    "\n",
    "prediccion = results.argmax(axis = 1)+1 #Este será un array de (1, 5000) con las posibilidades de que un numero haya sido predecido correctamente\n",
    "\n",
    "Z = (prediccion == Y)\n",
    "probabilidad = sum(Z)/len(Y)\n",
    "\n",
    "print(\"La probabilidad de acierto del programa es: \", probabilidad*100, \"%\")"
   ]
  }
 ],
 "metadata": {
  "kernelspec": {
   "display_name": "Python 3",
   "language": "python",
   "name": "python3"
  },
  "language_info": {
   "codemirror_mode": {
    "name": "ipython",
    "version": 3
   },
   "file_extension": ".py",
   "mimetype": "text/x-python",
   "name": "python",
   "nbconvert_exporter": "python",
   "pygments_lexer": "ipython3",
   "version": "3.7.3"
  }
 },
 "nbformat": 4,
 "nbformat_minor": 2
}
