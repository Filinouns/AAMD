{
 "cells": [
  {
   "cell_type": "markdown",
   "metadata": {},
   "source": [
    "# PRÁCTICA 3: REGRESIÓN LOGÍSTICA MULTICLASE Y REDES NEURONALES\n",
    "\n",
    "Alumnos: Gonzalo Guzmán del Río y Alejandro Ortega Álvarez.\n",
    "\n",
    "La práctica se dividirá en 2 partes, por un lado trataremos la regresión logística multiclase sobre el reconocimiento de imágenes, y por otro lado, utilizar un archivo .mat con pesos para una red ya entrenada y evaluar la precisión de la misma."
   ]
  },
  {
   "cell_type": "markdown",
   "metadata": {},
   "source": [
    "# Parte 1: Regresión logística multiclase"
   ]
  },
  {
   "cell_type": "markdown",
   "metadata": {},
   "source": [
    "# Visualización de los datos"
   ]
  },
  {
   "cell_type": "code",
   "execution_count": 10,
   "metadata": {},
   "outputs": [
    {
     "name": "stdout",
     "output_type": "stream",
     "text": [
      "(5000, 401)\n"
     ]
    },
    {
     "data": {
      "text/plain": [
       "(-0.5, 199.5, 19.5, -0.5)"
      ]
     },
     "execution_count": 10,
     "metadata": {},
     "output_type": "execute_result"
    },
    {
     "data": {
      "image/png": "[encoded data removed]",
      "text/plain": [
       "<Figure size 432x288 with 1 Axes>"
      ]
     },
     "metadata": {
      "needs_background": "light"
     },
     "output_type": "display_data"
    }
   ],
   "source": [
    "from scipy.io import loadmat\n",
    "import numpy as np\n",
    "#from pandas.io.parsers import read_csv\n",
    "import matplotlib.pyplot as plt\n",
    "import scipy.optimize as opt\n",
    "#from sklearn.preprocessing import PolynomialFeatures\n",
    "\n",
    "\n",
    "\n",
    "data = loadmat('ex4data1.mat')\n",
    "\n",
    "y = data['y']\n",
    "X = data['X']\n",
    "\n",
    "m = X.shape[0]\n",
    "n = X.shape[1]\n",
    "\n",
    "XStack = np.hstack([np.ones((len(X), 1)), X])\n",
    "y = np.ravel(y)\n",
    "\n",
    "print(XStack.shape)\n",
    "\n",
    "\n",
    "sample = np.random.choice(X.shape[0], 10)\n",
    "plt.imshow(X[sample, :].reshape(-1, 20).T)\n",
    "plt.axis('off')"
   ]
  },
  {
   "cell_type": "markdown",
   "metadata": {},
   "source": [
    "# Vectorización de la regresión logística"
   ]
  },
  {
   "cell_type": "code",
   "execution_count": 11,
   "metadata": {},
   "outputs": [
    {
     "name": "stdout",
     "output_type": "stream",
     "text": [
      "SIGMOIDE VECTOR: [0.73105858 0.88079708 0.95257413 0.98201379 0.99330715 0.99752738]\n",
      "SIGMOIDE NUMERO: 0.7310585786300049\n",
      "SIGMOIDE MATRIZ: [[0.73105858 0.88079708]\n",
      " [0.95257413 0.98201379]\n",
      " [0.99330715 0.99752738]]\n"
     ]
    }
   ],
   "source": [
    "# Vectorización de la función de coste\n",
    "\n",
    "#hO(X^i) = sigmoide(OT*X^i)\n",
    "\n",
    "def sigmoide(value):\n",
    "    s = 1/(1+np.exp(-value))\n",
    "    return s\n",
    "\n",
    "vector = sigmoide(np.array([1, 2, 3, 4, 5, 6]))\n",
    "print(\"SIGMOIDE VECTOR: \" + str(vector))\n",
    "#número\n",
    "numero = sigmoide(1)\n",
    "print(\"SIGMOIDE NUMERO: \" + str(numero))\n",
    "#matrix\n",
    "matrix = sigmoide(np.array([[1, 2], [3, 4], [5, 6]]))\n",
    "print(\"SIGMOIDE MATRIZ: \" + str(matrix))\n",
    "\n",
    "#Versión sin regularizar\n",
    "def coste(O, X, Y):\n",
    "    H = sigmoide(np.dot(X, O))\n",
    "    oper1 = -(float(1)/len(X))\n",
    "    oper2 = np.dot((np.log(H)).T, Y)\n",
    "    oper3 = (np.log(1-H)).T\n",
    "    oper4 = 1-Y\n",
    "    return oper1 * (oper2 + np.dot(oper3, oper4))\n",
    "\n",
    "#Versión regularizada\n",
    "def coste2(O, X, Y, lam):\n",
    "    H = sigmoide(np.dot(X, O))\n",
    "    oper1 = -(float(1)/len(X))\n",
    "    oper2 = np.dot((np.log(H)).T, Y)\n",
    "    oper3 = (np.log(1-H)).T\n",
    "    oper4 = 1-Y\n",
    "    oper5 = (lam/(2*len(X)))*np.sum(O**2)\n",
    "    return (oper1 * (oper2 + np.dot(oper3, oper4)))+ oper5\n",
    "\n",
    "def gradiente(O, X, Y, lam):\n",
    "    H = sigmoide(np.dot(X, O))\n",
    "    return (np.dot((1.0/len(X)), X.T).dot(H-Y))+(lam/len(X))*O\n",
    "\n"
   ]
  },
  {
   "cell_type": "markdown",
   "metadata": {},
   "source": [
    "# Clasificación de uno frente a todos"
   ]
  },
  {
   "cell_type": "code",
   "execution_count": 14,
   "metadata": {},
   "outputs": [
    {
     "name": "stdout",
     "output_type": "stream",
     "text": [
      "La probabilidad de acierto del programa es:  96.5 %\n"
     ]
    }
   ],
   "source": [
    "def oneVsAll(X, Y, num_etiquetas, reg):\n",
    "    thetas = np.zeros([num_etiquetas, X.shape[1]]) #Thetas es un vector de shape (num_etiquetas, 401)\n",
    "    for i in range(num_etiquetas):\n",
    "        if(i == 0):\n",
    "             iaux = 10\n",
    "        else:\n",
    "            iaux = i\n",
    "\n",
    "        a = (Y == iaux)*1\n",
    "        thetas[i] = opt.fmin_tnc(coste2, thetas[i], gradiente,args = (X, a, reg))[0]\n",
    "    return thetas\n",
    "O_Opt = oneVsAll(XStack, y, 10, 0.1)\n",
    "resultado = sigmoide(XStack.dot(np.transpose(O_Opt)))\n",
    "\n",
    "prediccion = resultado.argmax(axis = 1) #Este será un array de (1, 5000) con las posibilidades de que un numero haya sido predecido correctamente\n",
    "prediccion[prediccion == 0] = 10\n",
    "\n",
    "Z = (prediccion == y)\n",
    "probabilidad = sum(Z)/len(y)\n",
    "\n",
    "print(\"La probabilidad de acierto del programa es: \", probabilidad*100, \"%\")"
   ]
  },
  {
   "cell_type": "markdown",
   "metadata": {},
   "source": [
    "# Parte 2: Redes Neuronales"
   ]
  },
  {
   "cell_type": "code",
   "execution_count": 15,
   "metadata": {},
   "outputs": [
    {
     "name": "stdout",
     "output_type": "stream",
     "text": [
      "La probabilidad de acierto del programa es:  97.52 %\n"
     ]
    }
   ],
   "source": [
    "data = loadmat('ex3data4.mat')\n",
    "Y = data['y']  # Representa el valor real de cada ejemplo de entrenamiento de X (y para cada X)\n",
    "X = data['X']  # Cada fila de X representa una escala de grises de 20x20 desplegada linearmente (400 pixeles)\n",
    "Y = np.ravel(Y)\n",
    "X_unos = np.hstack([np.ones((len(X), 1)),X])\n",
    "nMuestras = len(X)\n",
    "weights = loadmat('ex4weights.mat')\n",
    "theta1, theta2 = weights['Theta1'], weights ['Theta2']\n",
    "\n",
    "\n",
    "#Propagación hacia delante\n",
    "aux = sigmoide(X_unos.dot(theta1.T))\n",
    "aux = np.hstack([np.ones((len(aux),1)), aux])\n",
    "#El resultado de utilizar la red neuronal será una matriz de 5000 x 10, con las probabilidades de que cada caso sea un numero.\n",
    "results = sigmoide(aux.dot(theta2.T))\n",
    "\n",
    "prediccion = results.argmax(axis = 1)+1 #Este será un array de (1, 5000) con las posibilidades de que un numero haya sido predecido correctamente\n",
    "\n",
    "Z = (prediccion == Y)\n",
    "probabilidad = sum(Z)/len(Y)\n",
    "\n",
    "print(\"La probabilidad de acierto del programa es: \", probabilidad*100, \"%\")"
   ]
  }
 ],
 "metadata": {
  "kernelspec": {
   "display_name": "Python 3",
   "language": "python",
   "name": "python3"
  },
  "language_info": {
   "codemirror_mode": {
    "name": "ipython",
    "version": 3
   },
   "file_extension": ".py",
   "mimetype": "text/x-python",
   "name": "python",
   "nbconvert_exporter": "python",
   "pygments_lexer": "ipython3",
   "version": "3.7.3"
  }
 },
 "nbformat": 4,
 "nbformat_minor": 2
}
