{
 "cells": [
  {
   "cell_type": "markdown",
   "metadata": {},
   "source": [
    "# Práctica 4\n",
    "# Aprendizaje de redes neuronales\n",
    "> Realizado por Andrés puente y Francisco López"
   ]
  },
  {
   "cell_type": "markdown",
   "metadata": {},
   "source": [
    "## Función de coste\n",
    "El objetivo de la primera parte de esta práctica es implementar el cálculo de la función de coste de una red neuronal para un conjunto de ejemplos de entrenamiento. Se utiliza el mismo conjunto de datos de la práctica 3."
   ]
  },
  {
   "cell_type": "code",
   "execution_count": 5,
   "metadata": {},
   "outputs": [],
   "source": [
    "from scipy . io import loadmat\n",
    "weights = loadmat('ex4weights.mat')\n",
    "theta1,theta2 = weights['Theta1'],weights['Theta2']"
   ]
  },
  {
   "cell_type": "code",
   "execution_count": 6,
   "metadata": {},
   "outputs": [],
   "source": [
    "#Devuelve el coste y el gradiente de una red neuronal de dos capas\n",
    "def backprop(params_rn, num_entradas,num_ocultas, num_etiquetas, X,y,reg):\n",
    "    \n",
    "    return 0"
   ]
  },
  {
   "cell_type": "markdown",
   "metadata": {},
   "source": [
    "## Cálculo del Gradiente\n",
    "En esta parte de la práctica implementamos el algoritmo de retro-propagación para añadir el cálculo del gradiente a la función 'backprop' que la devuelve junto al coste"
   ]
  },
  {
   "cell_type": "code",
   "execution_count": 7,
   "metadata": {},
   "outputs": [],
   "source": [
    "# SIGMOIDE \n",
    "def sigmoide(value):\n",
    "    return 1/(1+np.exp(-value))\n",
    "def sigmoideDerivada(value):\n",
    "    temp = sigmoide(value)\n",
    "    return temp * (1 - temp)\n",
    "\n",
    "def pesosAleatorios(L_in,L_out):\n",
    "    return 0"
   ]
  },
  {
   "cell_type": "markdown",
   "metadata": {},
   "source": [
    "### Retro-propagación\n",
    "El algoritmo de retro-propagación nos permite calcular el gradiente de la función de coste de la red neuronal."
   ]
  },
  {
   "cell_type": "code",
   "execution_count": null,
   "metadata": {},
   "outputs": [],
   "source": []
  },
  {
   "cell_type": "markdown",
   "metadata": {},
   "source": [
    "### Chequeo del Gradiente\n",
    "comprobar el gradiente, guay"
   ]
  },
  {
   "cell_type": "code",
   "execution_count": null,
   "metadata": {},
   "outputs": [],
   "source": []
  },
  {
   "cell_type": "markdown",
   "metadata": {},
   "source": [
    "### Redes neuronales regularizadas\n"
   ]
  }
 ],
 "metadata": {
  "kernelspec": {
   "display_name": "Python 3",
   "language": "python",
   "name": "python3"
  },
  "language_info": {
   "codemirror_mode": {
    "name": "ipython",
    "version": 3
   },
   "file_extension": ".py",
   "mimetype": "text/x-python",
   "name": "python",
   "nbconvert_exporter": "python",
   "pygments_lexer": "ipython3",
   "version": "3.7.4"
  }
 },
 "nbformat": 4,
 "nbformat_minor": 2
}
