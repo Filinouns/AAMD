{
 "cells": [
  {
   "cell_type": "markdown",
   "metadata": {},
   "source": [
    "# Práctica 4\n",
    "# Aprendizaje de redes neuronales\n",
    "Realizado por Andrés puente y Francisco López"
   ]
  },
  {
   "cell_type": "code",
   "execution_count": 1,
   "metadata": {},
   "outputs": [],
   "source": [
    "from scipy.io import loadmat\n",
    "import numpy as np\n",
    "import displayData as dp\n",
    "import matplotlib.pyplot as plt\n",
    "import scipy.optimize as opt\n",
    "import checkNNGradients as check"
   ]
  },
  {
   "cell_type": "markdown",
   "metadata": {},
   "source": [
    "# Lectura de datos"
   ]
  },
  {
   "cell_type": "code",
   "execution_count": 2,
   "metadata": {},
   "outputs": [
    {
     "name": "stdout",
     "output_type": "stream",
     "text": [
      "4\n"
     ]
    },
    {
     "data": {
      "text/plain": [
       "<Figure size 432x288 with 0 Axes>"
      ]
     },
     "metadata": {},
     "output_type": "display_data"
    },
    {
     "data": {
      "image/png": "[encoded data removed]",
      "text/plain": [
       "<Figure size 432x288 with 1 Axes>"
      ]
     },
     "metadata": {
      "needs_background": "light"
     },
     "output_type": "display_data"
    }
   ],
   "source": [
    "data = loadmat('ex4data1.mat')\n",
    "Y = data['y']\n",
    "X = data['X']\n",
    "\n",
    "nMuestras = len(X)\n",
    "Y = np.ravel(Y)\n",
    "\n",
    "\n",
    "print(Y[2222])\n",
    "plt.figure()\n",
    "dp.displayImage(X[2222])\n",
    "plt.savefig(\"Input_sample\")\n",
    "plt.show()"
   ]
  },
  {
   "cell_type": "code",
   "execution_count": 3,
   "metadata": {},
   "outputs": [],
   "source": [
    "weights = loadmat('ex4weights.mat')\n",
    "theta1,theta2 = weights['Theta1'],weights['Theta2']"
   ]
  },
  {
   "cell_type": "code",
   "execution_count": 4,
   "metadata": {},
   "outputs": [],
   "source": [
    "# SIGMOIDE \n",
    "def sigmoide(value):\n",
    "    return 1/(1+np.exp(-value))\n",
    "def sigmoideDerivada(value):\n",
    "    temp = sigmoide(value)\n",
    "    return temp * (1 - temp)\n",
    "\n",
    "def pesosAleatorios(L_in,L_out):\n",
    "    return 0"
   ]
  },
  {
   "cell_type": "markdown",
   "metadata": {},
   "source": [
    "### Retro-propagacion -> Forward propagation\n",
    "El algoritmo de retro-propagación nos permite calcular el gradiente de la función de coste de la red neuronal.\n",
    "\n",
    "Para ello se utilizaran 2 funciones, forwardProp y backprop.\n",
    "\n",
    "ForwardProp es una funcion de hipotesis que utiliza un valor de entrada para predecir una salida mediante una matriz de pesos. Tambien añadira un termino de sesgo.\n",
    "\n"
   ]
  },
  {
   "cell_type": "code",
   "execution_count": 5,
   "metadata": {},
   "outputs": [
    {
     "name": "stdout",
     "output_type": "stream",
     "text": [
      "Valor predecido para el elemento 0 de X segun la hipotesis:  9\n"
     ]
    }
   ],
   "source": [
    "def forwardProp(th1, th2, X):\n",
    "    z1 = th1.dot(X.T)\n",
    "    a1 = sigmoide(z1)\n",
    "    tuple = (np.ones(len(a1[0])), a1)\n",
    "    a1 = np.vstack(tuple)\n",
    "    z2 = th2.dot(a1)\n",
    "    a2 = sigmoide(z2)\n",
    "    return z1, a1, z2, a2\n",
    "\n",
    "X_aux = np.hstack([np.ones((len(X), 1), dtype = np.float), X])\n",
    "print(\"Valor predecido para el elemento 0 de X segun la hipotesis: \", \n",
    "      (forwardProp(theta1, theta2, X_aux)[3]).T[0].argmax())"
   ]
  },
  {
   "cell_type": "markdown",
   "metadata": {},
   "source": [
    "## Función de coste\n",
    "La función de coste, se implementara con regularización. Como entrada a dicha función, hemos de preparar un vector de Y distinto al recibido. Será una matriz de (numElementos, numEtiquetas) donde cada fila corresponde a un caso. Cada fila tendrá todos los valores a cero menos el valor real que representa ese caso, que estará a 1."
   ]
  },
  {
   "cell_type": "code",
   "execution_count": 6,
   "metadata": {},
   "outputs": [],
   "source": [
    "def costFun(X, y, theta1, theta2, reg):\n",
    "    #Here we assert that we can operate with the parameters\n",
    "    X = np.array(X)\n",
    "    y = np.array(y)\n",
    "    muestras = len(y)\n",
    "\n",
    "    theta1 = np.array(theta1)\n",
    "    theta2 = np.array(theta2)\n",
    "\n",
    "    hipo  = forwardProp(theta1, theta2, X)[3]\n",
    "    cost = np.sum((-y.T)*(np.log(hipo)) - (1-y.T)*(np.log(1- hipo)))/muestras\n",
    "\n",
    "    regcost = np.sum(np.power(theta1[:, 1:], 2)) + np.sum(np.power(theta2[:,1:], 2))\n",
    "    regcost = regcost * (reg/(2*muestras))\n",
    "\n",
    "    return cost + regcost\n",
    "\n",
    "def getYMatrix(Y, nEtiquetas):\n",
    "    nY = np.zeros((len(Y), nEtiquetas))\n",
    "    yaux = np.array(Y) -1\n",
    "    #print(Y)\n",
    "    #print(len(nY))\n",
    "    \n",
    "    for i in range(len(nY)):\n",
    "        #z = yaux[i].all()\n",
    "        z = yaux[i]\n",
    "        if(isinstance(z, np.uint8)):\n",
    "            if(z == 10): z = 0\n",
    "            nY[i][z] = 1\n",
    "        else:\n",
    "            z = yaux[i].all()\n",
    "            if(z == 10): z = 0\n",
    "            nY[i][z] = 1\n",
    "                \n",
    "        #print(z)\n",
    "        #print(\"Y de ceros: \", nY)\n",
    "    return nY"
   ]
  },
  {
   "cell_type": "code",
   "execution_count": 7,
   "metadata": {},
   "outputs": [
    {
     "name": "stdout",
     "output_type": "stream",
     "text": [
      "El coste con thetas entrenados es:  0.3837698590909236\n"
     ]
    }
   ],
   "source": [
    "Y_aux = getYMatrix(Y, 10)\n",
    "\n",
    "print(\"El coste con thetas entrenados es: \", costFun(X_aux, Y_aux, theta1, theta2, 1))"
   ]
  },
  {
   "cell_type": "markdown",
   "metadata": {},
   "source": [
    "### BackPropagation\n",
    "\n",
    "Backpropagation se usa para repartir el error entre las neuronas de la red neuronal. \n",
    "Comienza desde la ultima capa y desde esa desciende hasta la penúltima, ya que no se puede \n",
    "repartir error para la capa de entrada."
   ]
  },
  {
   "cell_type": "code",
   "execution_count": 9,
   "metadata": {},
   "outputs": [],
   "source": [
    "#Devuelve el coste y el gradiente de una red neuronal de dos capas\n",
    "def backprop(params_rn, num_entradas,num_ocultas, num_etiquetas, X, Y, reg):\n",
    "    th1 = np.reshape(params_rn[:num_ocultas *(num_entradas + 1)],(num_ocultas, (num_entradas+1)))\n",
    "    # theta2 es un array de (num_etiquetas, num_ocultas)\n",
    "    th2 = np.reshape(params_rn[num_ocultas*(num_entradas + 1): ], (num_etiquetas,(num_ocultas+1)))\n",
    "    \n",
    "    X_unos = np.hstack([np.ones((len(X), 1), dtype = np.float), X])\n",
    "    nMuestras = len(X)\n",
    "    y = np.zeros((nMuestras, num_etiquetas))\n",
    "    \n",
    "    y = y + getYMatrix(Y, num_etiquetas)\n",
    "    \n",
    "    coste = costFun(X_unos, y, th1, th2, reg)\n",
    "    \n",
    "    #Backpropagation\n",
    "    \n",
    "    # Forward propagation para obtener una hipótesis y los valores intermedios\n",
    "    # de la red neuronal\n",
    "    z2, a2, z3, a3 = forwardProp(th1, th2, X_unos)\n",
    "    \n",
    "    gradW1 = np.zeros(th1.shape)\n",
    "    gradW2 = np.zeros(th2.shape)\n",
    "    \n",
    "    # Coste por capas\n",
    "    delta3 = np.array(a3 - y.T)\n",
    "    delta2 = th2.T[1:, :].dot(delta3)*sigmoideDerivada(z2)\n",
    "    \n",
    "    # Acumulacion de gradiente\n",
    "    gradW1 = gradW1 + (delta2.dot(X_unos))\n",
    "    gradW2 = gradW2 + (delta3.dot(a2.T))\n",
    "    \n",
    "    G1 = gradW1/float(nMuestras)\n",
    "    G2 = gradW2/float(nMuestras)\n",
    "    \n",
    "    # suma definitiva\n",
    "    G1[:, 1: ] = G1[:, 1:] + (float(reg)/float(nMuestras))*th1[:, 1:]\n",
    "    G2[:, 1: ] = G2[:, 1:] + (float(reg)/float(nMuestras))*th2[:, 1:]\n",
    "    \n",
    "    gradients = np.concatenate((G1, G2), axis = None)\n",
    "    \n",
    "    return coste, gradients"
   ]
  },
  {
   "cell_type": "code",
   "execution_count": 10,
   "metadata": {},
   "outputs": [
    {
     "name": "stdout",
     "output_type": "stream",
     "text": [
      "Diferencias al comprobar gradientes:\n",
      " [ 1.14376897e-10  9.90318938e-14  1.15157606e-11  3.08568171e-11\n",
      " -1.16232995e-10  2.46816456e-12 -3.54113544e-11 -1.05037631e-10\n",
      " -1.62812763e-10  9.56501545e-12 -7.94193045e-11 -2.39369968e-10\n",
      " -6.30041019e-11  3.38154504e-12 -2.14650520e-11 -7.55736723e-11\n",
      "  4.48127369e-11  9.81270620e-13  2.13239218e-11  5.07995868e-11\n",
      "  6.21964702e-11  1.66536784e-11  8.51685389e-12  4.28101998e-12\n",
      "  1.72283854e-11  1.71411774e-11  7.11513071e-11  1.42481027e-11\n",
      "  7.72014397e-12  9.40297840e-12  1.58183466e-11  2.05401252e-11\n",
      "  6.97608638e-11  1.15627508e-11  1.89406824e-12  1.83976445e-11\n",
      "  2.21590801e-11  2.11061169e-11]\n"
     ]
    }
   ],
   "source": [
    "params = np.concatenate((theta1, theta2), axis = None)\n",
    "print(\"Diferencias al comprobar gradientes:\\n\", check.checkNNGradients(backprop, 1))"
   ]
  },
  {
   "cell_type": "markdown",
   "metadata": {},
   "source": [
    "### Inicializacion aleatoria de thetas"
   ]
  },
  {
   "cell_type": "code",
   "execution_count": 11,
   "metadata": {},
   "outputs": [],
   "source": [
    "def InitRandomWeight(L_in, L_out):\n",
    "    cini = 0.2\n",
    "    a = np.random.uniform(-cini, cini, size = (L_in, L_out))\n",
    "    a = np.insert(a, 0, 1, axis = 0)\n",
    "    return a"
   ]
  },
  {
   "cell_type": "markdown",
   "metadata": {},
   "source": [
    "# Prueba de la red Neuronal\n"
   ]
  },
  {
   "cell_type": "code",
   "execution_count": 12,
   "metadata": {},
   "outputs": [],
   "source": [
    "def NNTest (num_entradas, num_ocultas, num_etiquetas, reg, X, Y, laps):\n",
    "    t1 = InitRandomWeight(num_entradas, num_ocultas)\n",
    "    t2 = InitRandomWeight(num_ocultas, num_etiquetas)\n",
    "\n",
    "    params = np.hstack((np.ravel(t1), np.ravel(t2)))\n",
    "    out = opt.minimize(fun = backprop, x0 = params, args = (num_entradas, num_ocultas, num_etiquetas, X, Y, reg), method='TNC', jac = True, options = {'maxiter': laps})\n",
    "\n",
    "    Thetas1 = out.x[:(num_ocultas*(num_entradas+1))].reshape(num_ocultas,(num_entradas+1))\n",
    "    Thetas2 = out.x[(num_ocultas*(num_entradas+1)):].reshape(num_etiquetas,(num_ocultas+1))\n",
    "\n",
    "    input = np.hstack([np.ones((len(X), 1), dtype = np.float), X])\n",
    "    hipo = forwardProp(Thetas1, Thetas2, input)[3]\n",
    "\n",
    "\n",
    "    Ghipo = (hipo.argmax(axis = 0))+1\n",
    "    prec = (Ghipo == Y)*1\n",
    "    \n",
    "    precision = sum(prec) / len(X)\n",
    "\n",
    "    print(\"Program precision: \", precision *100, \"%\")"
   ]
  },
  {
   "cell_type": "code",
   "execution_count": 13,
   "metadata": {},
   "outputs": [
    {
     "name": "stdout",
     "output_type": "stream",
     "text": [
      "Program precision:  90.53999999999999 %\n"
     ]
    }
   ],
   "source": [
    "NNTest(400, 25, 10, 1, X, Y, 70)"
   ]
  },
  {
   "cell_type": "code",
   "execution_count": 14,
   "metadata": {},
   "outputs": [
    {
     "name": "stdout",
     "output_type": "stream",
     "text": [
      "Program precision:  99.26 %\n"
     ]
    }
   ],
   "source": [
    "NNTest(400, 25, 10, 1, X, Y, 200)"
   ]
  },
  {
   "cell_type": "code",
   "execution_count": 15,
   "metadata": {},
   "outputs": [
    {
     "name": "stdout",
     "output_type": "stream",
     "text": [
      "Program precision:  20.96 %\n"
     ]
    }
   ],
   "source": [
    "NNTest(400, 25, 10, 1, X, Y, 5)"
   ]
  }
 ],
 "metadata": {
  "kernelspec": {
   "display_name": "Python 3",
   "language": "python",
   "name": "python3"
  },
  "language_info": {
   "codemirror_mode": {
    "name": "ipython",
    "version": 3
   },
   "file_extension": ".py",
   "mimetype": "text/x-python",
   "name": "python",
   "nbconvert_exporter": "python",
   "pygments_lexer": "ipython3",
   "version": "3.7.4"
  }
 },
 "nbformat": 4,
 "nbformat_minor": 2
}
