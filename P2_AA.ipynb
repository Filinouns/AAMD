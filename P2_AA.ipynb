{
 "cells": [
  {
   "cell_type": "markdown",
   "metadata": {},
   "source": [
    "# Practica 2\n",
    "\n",
    "## Regresión Logística\n",
    "\n",
    "En esta practica usaremos los datos de ejemplo proporcionados que representan las notas de los alumnos que se presentaron a un examen de admision a la universidad junto con la informacion sobre si fueron (1) o no (0) admitidos.\n",
    "El objetivo de la práctica es construir un modelo por regresión logística que estime la probabilidad de que un estudiante sea admitido en esa universidad en base a las notas de sus exámenes."
   ]
  },
  {
   "cell_type": "markdown",
   "metadata": {},
   "source": [
    "## INCLUDES"
   ]
  },
  {
   "cell_type": "code",
   "execution_count": 1,
   "metadata": {},
   "outputs": [],
   "source": [
    "import numpy as np\n",
    "from pandas.io.parsers import read_csv \n",
    "import math as mt\n",
    "import matplotlib.pyplot as plt\n",
    "import scipy.optimize as opt\n",
    "from sklearn.preprocessing import PolynomialFeatures as pf"
   ]
  },
  {
   "cell_type": "markdown",
   "metadata": {},
   "source": [
    "### Lectura de los datos de entrada"
   ]
  },
  {
   "cell_type": "code",
   "execution_count": 2,
   "metadata": {},
   "outputs": [],
   "source": [
    "# Funcion que carga el fichero csv especificado y lo devuelve en un array de numpy\n",
    "def carga_csv(file_name):\n",
    "    valores = read_csv(file_name, header = None).values\n",
    "    # suponemos que siempre trabajaremos con float     \n",
    "    return valores.astype(float)"
   ]
  },
  {
   "cell_type": "code",
   "execution_count": 3,
   "metadata": {},
   "outputs": [],
   "source": [
    "datos = carga_csv('ex2data1.csv')\n",
    "\n",
    "#Notas examenes\n",
    "results = datos[:, :-1]\n",
    "\n",
    "#Notas examenes con columna de 1\n",
    "datosExamenes = np.hstack([np.ones([results.shape[0], 1]), results])\n",
    "#Indices de aprobados y suspensos\n",
    "aceptados = datos[:, -1]\n",
    "\n",
    "m = datosExamenes.shape[0]\n",
    "n = datosExamenes.shape[1]\n",
    "\n",
    "theta = np.zeros((1, n))"
   ]
  },
  {
   "cell_type": "markdown",
   "metadata": {},
   "source": [
    "### Dibujado de los datos\n",
    "\n",
    "Dibujamos los datos de los examenes para obtener un resultado mas visual"
   ]
  },
  {
   "cell_type": "code",
   "execution_count": 5,
   "metadata": {},
   "outputs": [
    {
     "data": {
      "image/png": "[encoded data removed]",
      "text/plain": [
       "<Figure size 432x288 with 1 Axes>"
      ]
     },
     "metadata": {
      "needs_background": "light"
     },
     "output_type": "display_data"
    }
   ],
   "source": [
    "def dibuja_graf(D, R, legend, xLabel, yLabel):\n",
    "    #np.shape(results)\n",
    "    pos0 = np.where(D[:,-1] == 0)\n",
    "    pos1 = np.where(D[:, -1] == 1)\n",
    "    \n",
    "    plt.scatter(R[pos1, 0], R[pos1, 1], marker='+', c = 'k', s=30)\n",
    "    plt.scatter(R[pos0, 0], R[pos0, 1], marker='o', c = 'y', s=20)\n",
    "    plt.legend(legend)\n",
    "\n",
    "    plt.xlabel(xLabel)\n",
    "    plt.ylabel(yLabel)\n",
    "    \n",
    "dibuja_graf(datos, results, ['Admitted', 'Not admitted'], 'Exam 1 score', 'Exam 2 score')"
   ]
  },
  {
   "cell_type": "code",
   "execution_count": 6,
   "metadata": {},
   "outputs": [],
   "source": [
    "# Funcion sigmoide\n",
    "def sigmoide(x):\n",
    "    return 1 / (1 + np.exp(-x))"
   ]
  },
  {
   "cell_type": "markdown",
   "metadata": {},
   "source": [
    "### Funcion Coste\n",
    "A continuacion implementamos la funcion coste"
   ]
  },
  {
   "cell_type": "code",
   "execution_count": 7,
   "metadata": {},
   "outputs": [],
   "source": [
    "# Funcion Coste\n",
    "def cost(theta, x, y):\n",
    "    sig = sigmoide(np.dot(x, theta.T))\n",
    "    \n",
    "    logSig = np.log(sig)\n",
    "    #logSigT = np.transpose(logSig)\n",
    "    \n",
    "    log1 = np.log((1 - sig))\n",
    "    #log1T = np.transpose(log1)\n",
    "\n",
    "    c = (-1/m) * (np.dot(y, logSig) + np.dot((1-y),log1))\n",
    "    return c\n",
    "\n",
    "def gradiente(theta, x, y):\n",
    "    return (x.T.dot((sigmoide(x.dot(theta.T))) - y))/m"
   ]
  },
  {
   "cell_type": "code",
   "execution_count": 8,
   "metadata": {},
   "outputs": [],
   "source": [
    "# Funcion para pintar la recta frontera\n",
    "def pinta_frontera_recta(X, Y, theta):\n",
    "    dibuja_graf(datos, results, ['Admitted', 'Not admitted'], 'Exam 1 score', 'Exam 2 score')   \n",
    "    x1_min, x1_max = X[:, 1].min(), X[:, 1].max()    \n",
    "    x2_min, x2_max = X[:, 2].min(), X[:, 2].max()        \n",
    "    xx1, xx2 = np.meshgrid(np.linspace(x1_min, x1_max),                           \n",
    "                           np.linspace(x2_min, x2_max))        \n",
    "    h = sigmoide(np.c_[np.ones((xx1.ravel().shape[0], 1)),\n",
    "                      xx1.ravel(),\n",
    "                      xx2.ravel()].dot(theta))\n",
    "    h = h.reshape(xx1.shape)        \n",
    "    # el cuarto parámetro es el valor de z cuya frontera se quiere pintar    \n",
    "    plt.contour(xx1, xx2, h, [0.5], linewidths=1, colors='b')    "
   ]
  },
  {
   "cell_type": "markdown",
   "metadata": {},
   "source": [
    "Una vez tenemos las funciones anteriores es momento de dibujar la grafica con la recta de la frontera."
   ]
  },
  {
   "cell_type": "code",
   "execution_count": 9,
   "metadata": {},
   "outputs": [
    {
     "data": {
      "image/png": "[encoded data removed]",
      "text/plain": [
       "<Figure size 432x288 with 1 Axes>"
      ]
     },
     "metadata": {
      "needs_background": "light"
     },
     "output_type": "display_data"
    }
   ],
   "source": [
    "result = opt.fmin_tnc(func=cost , x0=theta , fprime=gradiente , args=(datosExamenes, aceptados)) \n",
    "theta_opt = result [0]\n",
    "\n",
    "pinta_frontera_recta(datosExamenes, aceptados, theta_opt)"
   ]
  },
  {
   "cell_type": "markdown",
   "metadata": {},
   "source": [
    "A continuacion implementaremos una funcion que calcule el porcentaje de ejemplos de entrenamiento que se clasifican correctamente sobre cada ejemplo de entrenamiento, interpretando si el resultado es >= 0.5 el alumno sera admitido (1) y si es menor no sera admitido(0)"
   ]
  },
  {
   "cell_type": "code",
   "execution_count": 10,
   "metadata": {},
   "outputs": [
    {
     "name": "stdout",
     "output_type": "stream",
     "text": [
      "Aprobados: 50.0%\n"
     ]
    }
   ],
   "source": [
    "def CalculaPorcentaje(theta_opt, data):\n",
    "    r = sigmoide(data.dot(theta_opt))\n",
    "    passed = len(np.where(r >= 0.5))\n",
    "    fail = len(np.where(r < 0.5))\n",
    "    total = passed + fail\n",
    "    return passed / total\n",
    "    \n",
    "p = CalculaPorcentaje(theta_opt, datosExamenes)\n",
    "print(\"Aprobados: \" + str(p * 100) + \"%\")"
   ]
  },
  {
   "cell_type": "markdown",
   "metadata": {},
   "source": [
    "# 2. Regresion Logistica Regularizada"
   ]
  },
  {
   "cell_type": "markdown",
   "metadata": {},
   "source": [
    "## ------------------Visualizacion de datos------------------"
   ]
  },
  {
   "cell_type": "code",
   "execution_count": 11,
   "metadata": {},
   "outputs": [
    {
     "data": {
      "image/png": "[encoded data removed]",
      "text/plain": [
       "<Figure size 432x288 with 1 Axes>"
      ]
     },
     "metadata": {
      "needs_background": "light"
     },
     "output_type": "display_data"
    }
   ],
   "source": [
    "#Datos control calidad\n",
    "datos2 = carga_csv('ex2data2.csv')\n",
    "\n",
    "#Notas control calidad\n",
    "results2 = datos2[:, :-1]\n",
    "accepted2 = datos2[:, -1]\n",
    "\n",
    "dibuja_graf(datos2, results2, ['y = 1', 'y = 0'], 'Microchip Test 1', 'Microchip Test 1')"
   ]
  },
  {
   "cell_type": "markdown",
   "metadata": {},
   "source": [
    "# - Mapeo de datos"
   ]
  },
  {
   "cell_type": "code",
   "execution_count": 12,
   "metadata": {},
   "outputs": [],
   "source": [
    "m = results2.shape[0]\n",
    "poly = pf(6)\n",
    "XFitted = poly.fit_transform(results2)\n",
    "n = XFitted.shape[1]\n",
    "\n",
    "theta2 = np.zeros(n) #1 fila, 28 columnas\n",
    "lamb = 1 #lambda"
   ]
  },
  {
   "cell_type": "markdown",
   "metadata": {},
   "source": [
    "# - Funcion coste y gradiente"
   ]
  },
  {
   "cell_type": "code",
   "execution_count": 13,
   "metadata": {},
   "outputs": [],
   "source": [
    "#Funcion de Coste2\n",
    "def cost2(O, X, Y, lamb):\n",
    "    cos = (cost(O, X, Y) + (lamb/2*m)*(O**2).sum())\n",
    "    return cos\n",
    "\n",
    "def gradiente2(O, X, Y, lamb):\n",
    "    grad = (X.T.dot((sigmoide(X.dot(O))) - Y))/m\n",
    "    sol = (grad + (lamb/m)*0)\n",
    "    return grad"
   ]
  },
  {
   "cell_type": "markdown",
   "metadata": {},
   "source": [
    "# - Pintar frontera"
   ]
  },
  {
   "cell_type": "code",
   "execution_count": 14,
   "metadata": {},
   "outputs": [
    {
     "data": {
      "image/png": "[encoded data removed]",
      "text/plain": [
       "<Figure size 432x288 with 1 Axes>"
      ]
     },
     "metadata": {
      "needs_background": "light"
     },
     "output_type": "display_data"
    }
   ],
   "source": [
    "result2 = opt.fmin_tnc(func = cost2, x0 = theta2, fprime=gradiente2, args=(XFitted, accepted2, lamb))\n",
    "theta_opt2 = result2[0]\n",
    "\n",
    "def plot_decisionboundary(X, Y, theta, poly):\n",
    "    plt.figure()\n",
    "    dibuja_graf(datos2, results2, ['y = 1', 'y = 0'], 'Microchip Test 1', 'Microchip Test 1')\n",
    "    x1_min, x1_max = X[:, 1].min(), X[:, 1].max()\n",
    "    x2_min, x2_max = X[:, 2].min(), X[:, 2].max()\n",
    "    xx1, xx2 = np.meshgrid(np.linspace(x1_min, x1_max),\n",
    "    np.linspace(x2_min, x2_max))\n",
    "    h = sigmoide(poly.fit_transform(np.c_[xx1.ravel(),\n",
    "    xx2.ravel()]).dot(theta))\n",
    "    h = h.reshape(xx1.shape)\n",
    "    plt.contour(xx1, xx2, h, [0.5], linewidths=1, colors='g')\n",
    "    \n",
    "plot_decisionboundary(XFitted, accepted2, theta_opt2, poly)"
   ]
  },
  {
   "cell_type": "markdown",
   "metadata": {},
   "source": [
    "# - Evaluacion de resultados"
   ]
  },
  {
   "cell_type": "code",
   "execution_count": 33,
   "metadata": {},
   "outputs": [
    {
     "name": "stdout",
     "output_type": "stream",
     "text": [
      "Aprobados: 50.847457627118644%\n"
     ]
    }
   ],
   "source": [
    "def evalua2(O, X):\n",
    "    res = sigmoide(X.dot(O))\n",
    "    passed = (res >= 0.5)\n",
    "    return passed.sum()/res.shape[0]\n",
    "porcentaje = evalua2(theta_opt2, XFitted)\n",
    "print(\"Aprobados: \" + str(porcentaje*100) + \"%\")"
   ]
  }
 ],
 "metadata": {
  "kernelspec": {
   "display_name": "Python 3",
   "language": "python",
   "name": "python3"
  },
  "language_info": {
   "codemirror_mode": {
    "name": "ipython",
    "version": 3
   },
   "file_extension": ".py",
   "mimetype": "text/x-python",
   "name": "python",
   "nbconvert_exporter": "python",
   "pygments_lexer": "ipython3",
   "version": "3.7.4"
  }
 },
 "nbformat": 4,
 "nbformat_minor": 2
}
