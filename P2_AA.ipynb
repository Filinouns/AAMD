{
 "cells": [
  {
   "cell_type": "markdown",
   "metadata": {},
   "source": [
    "# Practica 2\n",
    "\n",
    "## Regresión Logística\n",
    "\n",
    "En esta practica usaremos los datos de ejemplo proporcionados que representan las notas de los alumnos que se presentaron a un examen de admision a la universidad junto con la informacion sobre si fueron (1) o no (0) admitidos.\n",
    "El objetivo de la práctica es construir un modelo por regresión logística que estime la probabilidad de que un estudiante sea admitido en esa universidad en base a las notas de sus exámenes."
   ]
  },
  {
   "cell_type": "markdown",
   "metadata": {},
   "source": [
    "## INCLUDES"
   ]
  },
  {
   "cell_type": "code",
   "execution_count": 13,
   "metadata": {},
   "outputs": [],
   "source": [
    "import numpy as np\n",
    "from pandas.io.parsers import read_csv \n",
    "import math as mt\n",
    "import matplotlib.pyplot as plt\n",
    "import scipy.optimize as opt"
   ]
  },
  {
   "cell_type": "markdown",
   "metadata": {},
   "source": [
    "### Lectura de los datos de entrada"
   ]
  },
  {
   "cell_type": "code",
   "execution_count": 14,
   "metadata": {},
   "outputs": [],
   "source": [
    "# Funcion que carga el fichero csv especificado y lo devuelve en un array de numpy\n",
    "def carga_csv(file_name):\n",
    "    valores = read_csv(file_name, header = None).values\n",
    "    # suponemos que siempre trabajaremos con float     \n",
    "    return valores.astype(float)"
   ]
  },
  {
   "cell_type": "code",
   "execution_count": 310,
   "metadata": {},
   "outputs": [],
   "source": [
    "datos = carga_csv('ex2data1.csv')\n",
    "\n",
    "#Notas examenes\n",
    "results = datos[:, :-1]\n",
    "\n",
    "#Notas examenes con columna de 1\n",
    "datosExamenes = np.hstack([np.ones([results.shape[0], 1]), results])\n",
    "#Indices de aprobados y suspensos\n",
    "aceptados = datos[:, -1]\n",
    "\n",
    "m = datosExamenes.shape[0]\n",
    "n = datosExamenes.shape[1]\n",
    "\n",
    "theta = np.zeros((1, n))"
   ]
  },
  {
   "cell_type": "markdown",
   "metadata": {},
   "source": [
    "### Dibujado de los datos\n",
    "\n",
    "Dibujamos los datos de los examenes para obtener un resultado mas visual"
   ]
  },
  {
   "cell_type": "code",
   "execution_count": 308,
   "metadata": {},
   "outputs": [
    {
     "data": {
      "image/png": "[encoded data removed]",
      "text/plain": [
       "<Figure size 432x288 with 1 Axes>"
      ]
     },
     "metadata": {
      "needs_background": "light"
     },
     "output_type": "display_data"
    }
   ],
   "source": [
    "def dibuja_graf():\n",
    "    #np.shape(results)\n",
    "    pos0 = np.where(datos[:,-1] == 0)\n",
    "    pos1 = np.where(datos[:, -1] == 1)\n",
    "    \n",
    "    plt.scatter(results[pos1, 0], results[pos1, 1], marker='+', c = 'k', s=30)\n",
    "    plt.scatter(results[pos0, 0], results[pos0, 1], marker='o', c = 'y', s=20)\n",
    "    plt.legend(['Admitted', 'Not admitted'])\n",
    "\n",
    "    plt.xlabel('Exam 1 score')\n",
    "    plt.ylabel('Exam 2 score')\n",
    "    \n",
    "dibuja_graf()"
   ]
  },
  {
   "cell_type": "code",
   "execution_count": 35,
   "metadata": {},
   "outputs": [],
   "source": [
    "# Funcion sigmoide\n",
    "def sigmoide(x):\n",
    "    return 1 / (1 + np.exp(-x))"
   ]
  },
  {
   "cell_type": "markdown",
   "metadata": {},
   "source": [
    "### Funcion Coste\n",
    "A continuacion implementamos la funcion coste"
   ]
  },
  {
   "cell_type": "code",
   "execution_count": 334,
   "metadata": {},
   "outputs": [],
   "source": [
    "# Funcion Coste\n",
    "def cost(theta, x, y):\n",
    "    sig = sigmoide(np.dot(x, theta.T))\n",
    "    \n",
    "    logSig = np.log(sig)\n",
    "    #logSigT = np.transpose(logSig)\n",
    "    \n",
    "    log1 = np.log((1 - sig))\n",
    "    #log1T = np.transpose(log1)\n",
    "\n",
    "    c = (-1/m) * (np.dot(y, logSig) + np.dot((1-y),log1))\n",
    "    return c\n",
    "\n",
    "def gradiente(theta, x, y):\n",
    "    return (x.T.dot((sigmoide(x.dot(theta.T))) - y))/m"
   ]
  },
  {
   "cell_type": "code",
   "execution_count": 335,
   "metadata": {},
   "outputs": [],
   "source": [
    "# Funcion para pintar la recta frontera\n",
    "def pinta_frontera_recta(X, Y, theta):\n",
    "    dibuja_graf()   \n",
    "    x1_min, x1_max = X[:, 1].min(), X[:, 1].max()    \n",
    "    x2_min, x2_max = X[:, 2].min(), X[:, 2].max()        \n",
    "    xx1, xx2 = np.meshgrid(np.linspace(x1_min, x1_max),                           \n",
    "                           np.linspace(x2_min, x2_max))        \n",
    "    h = sigmoide(np.c_[np.ones((xx1.ravel().shape[0], 1)),\n",
    "                      xx1.ravel(),\n",
    "                      xx2.ravel()].dot(theta))\n",
    "    h = h.reshape(xx1.shape)        \n",
    "    # el cuarto parámetro es el valor de z cuya frontera se quiere pintar    \n",
    "    plt.contour(xx1, xx2, h, [0.5], linewidths=1, colors='b')    "
   ]
  },
  {
   "cell_type": "markdown",
   "metadata": {},
   "source": [
    "Una vez tenemos las funciones anteriores es momento de dibujar la grafica con la recta de la frontera."
   ]
  },
  {
   "cell_type": "code",
   "execution_count": 336,
   "metadata": {},
   "outputs": [
    {
     "data": {
      "image/png": "[encoded data removed]",
      "text/plain": [
       "<Figure size 432x288 with 1 Axes>"
      ]
     },
     "metadata": {
      "needs_background": "light"
     },
     "output_type": "display_data"
    }
   ],
   "source": [
    "result = opt.fmin_tnc(func=cost , x0=theta , fprime=gradiente , args=(datosExamenes, aceptados)) \n",
    "theta_opt = result [0]\n",
    "\n",
    "pinta_frontera_recta(datosExamenes, aceptados, theta_opt)"
   ]
  },
  {
   "cell_type": "markdown",
   "metadata": {},
   "source": [
    "A continuacion implementaremos una funcion que calcule el porcentaje de ejemplos de entrenamiento que se clasifican correctamente sobre cada ejemplo de entrenamiento, interpretando si el resultado es >= 0.5 el alumno sera admitido (1) y si es menor no sera admitido(0)"
   ]
  }
 ],
 "metadata": {
  "kernelspec": {
   "display_name": "Python 3",
   "language": "python",
   "name": "python3"
  },
  "language_info": {
   "codemirror_mode": {
    "name": "ipython",
    "version": 3
   },
   "file_extension": ".py",
   "mimetype": "text/x-python",
   "name": "python",
   "nbconvert_exporter": "python",
   "pygments_lexer": "ipython3",
   "version": "3.7.3"
  }
 },
 "nbformat": 4,
 "nbformat_minor": 2
}
